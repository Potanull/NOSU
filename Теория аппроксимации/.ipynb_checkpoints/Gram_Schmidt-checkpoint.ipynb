{
 "cells": [
  {
   "cell_type": "code",
   "execution_count": 1,
   "metadata": {},
   "outputs": [],
   "source": [
    "import math\n",
    "import numpy as np\n",
    "import pandas as pd\n",
    "import seaborn as sns\n",
    "import matplotlib.pyplot as plt\n",
    "from celluloid import Camera\n",
    "import matplotlib.animation\n",
    "\n",
    "plt.rcParams[\"animation.html\"] = \"jshtml\"\n",
    "from matplotlib.animation import FuncAnimation\n",
    "\n",
    "%matplotlib inline\n",
    "\n",
    "sns.set(style=\"darkgrid\")"
   ]
  },
  {
   "cell_type": "markdown",
   "metadata": {},
   "source": [
    "# Процесс Грама ― Шмидта"
   ]
  },
  {
   "cell_type": "code",
   "execution_count": 42,
   "metadata": {},
   "outputs": [],
   "source": [
    "def proj(normVector, constVector):\n",
    "    Vn = array(normVector)\n",
    "    Vc = array(constVector)\n",
    "    return ((sum(Vc*Vn)/sum(Vn**2))*Vn)\n",
    "\n",
    "def gs(vL):\n",
    "    Out = []\n",
    "    for i in range(len(vL)):\n",
    "        nowVec = array(vL[i])\n",
    "\n",
    "        for v in Out :\n",
    "            nowVec -= proj(v, nowVec)\n",
    "\n",
    "        Out.append(nowVec)\n",
    "    return Out\n",
    "\n",
    "def gsn(vL):\n",
    "    Out = []\n",
    "    for i in range(len(vL)):\n",
    "        nowVec = array(vL[i])\n",
    "\n",
    "        for v in Out :\n",
    "            nowVec -= proj(v, nowVec)\n",
    "        nowVec /= sqrt(sum(nowVec*nowVec))\n",
    "\n",
    "        Out.append(nowVec)\n",
    "    return Out"
   ]
  },
  {
   "cell_type": "code",
   "execution_count": 49,
   "metadata": {},
   "outputs": [
    {
     "name": "stdout",
     "output_type": "stream",
     "text": [
      "[array([0., 1.]), <map object at 0x000002D7A1DD2190>]\n"
     ]
    }
   ],
   "source": [
    "test_0 = np.array([[0., 1.], [1., 1.]])\n",
    "\n",
    "print(gs(test_0))"
   ]
  },
  {
   "cell_type": "code",
   "execution_count": null,
   "metadata": {},
   "outputs": [],
   "source": []
  },
  {
   "cell_type": "code",
   "execution_count": null,
   "metadata": {},
   "outputs": [],
   "source": []
  }
 ],
 "metadata": {
  "kernelspec": {
   "display_name": "Python 3",
   "language": "python",
   "name": "python3"
  },
  "language_info": {
   "codemirror_mode": {
    "name": "ipython",
    "version": 3
   },
   "file_extension": ".py",
   "mimetype": "text/x-python",
   "name": "python",
   "nbconvert_exporter": "python",
   "pygments_lexer": "ipython3",
   "version": "3.8.3"
  }
 },
 "nbformat": 4,
 "nbformat_minor": 4
}
