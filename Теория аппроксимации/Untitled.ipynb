{
 "cells": [
  {
   "cell_type": "markdown",
   "metadata": {},
   "source": [
    "# Матричная норма"
   ]
  },
  {
   "cell_type": "code",
   "execution_count": 1,
   "metadata": {},
   "outputs": [],
   "source": [
    "import math\n",
    "import numpy as np\n",
    "import pandas as pd\n",
    "import seaborn as sns\n",
    "import matplotlib.pyplot as plt\n",
    "from celluloid import Camera\n",
    "import matplotlib.animation\n",
    "\n",
    "plt.rcParams[\"animation.html\"] = \"jshtml\"\n",
    "from matplotlib.animation import FuncAnimation\n",
    "\n",
    "%matplotlib inline\n",
    "\n",
    "sns.set(style=\"darkgrid\")"
   ]
  },
  {
   "cell_type": "code",
   "execution_count": 12,
   "metadata": {},
   "outputs": [],
   "source": [
    "def normRow(matrix):\n",
    "    rez = -math.inf\n",
    "    \n",
    "    for i in range(len(matrix)):\n",
    "        s = 0\n",
    "        for j in range(len(matrix[i])):\n",
    "            s += matrix[i][j]\n",
    "        rez = max(rez, s)\n",
    "            \n",
    "    return rez"
   ]
  },
  {
   "cell_type": "code",
   "execution_count": 13,
   "metadata": {},
   "outputs": [],
   "source": [
    "def normColumn(matrix):\n",
    "    rez = -math.inf\n",
    "    \n",
    "    for i in range(len(matrix)):\n",
    "        s = 0\n",
    "        for j in range(len(matrix[i])):\n",
    "            s += matrix[j][i]\n",
    "        rez = max(rez, s)\n",
    "            \n",
    "    return rez"
   ]
  },
  {
   "cell_type": "code",
   "execution_count": 16,
   "metadata": {},
   "outputs": [
    {
     "name": "stdin",
     "output_type": "stream",
     "text": [
      "Количество столбцов N:  4\n",
      "Количество строк M:  4\n",
      " 1 2 3 4\n",
      " 4 3 2 1\n",
      " 2 2 2 2\n",
      " 5 5 5 5\n"
     ]
    }
   ],
   "source": [
    "n = int(input('Количество столбцов N: '))\n",
    "m = int(input('Количество строк M: '))\n",
    "\n",
    "matrix = []\n",
    "for i in range(n):\n",
    "    a = []\n",
    "    temp = input().split()\n",
    "    for j in range(m):\n",
    "        a.append(int(temp[j]))\n",
    "        \n",
    "    matrix.append(a)"
   ]
  },
  {
   "cell_type": "code",
   "execution_count": 17,
   "metadata": {},
   "outputs": [
    {
     "data": {
      "text/plain": [
       "12"
      ]
     },
     "execution_count": 17,
     "metadata": {},
     "output_type": "execute_result"
    }
   ],
   "source": [
    "normColumn(matrix)"
   ]
  },
  {
   "cell_type": "code",
   "execution_count": 18,
   "metadata": {},
   "outputs": [
    {
     "data": {
      "text/plain": [
       "20"
      ]
     },
     "execution_count": 18,
     "metadata": {},
     "output_type": "execute_result"
    }
   ],
   "source": [
    "normRow(matrix)"
   ]
  },
  {
   "cell_type": "code",
   "execution_count": null,
   "metadata": {},
   "outputs": [],
   "source": []
  }
 ],
 "metadata": {
  "kernelspec": {
   "display_name": "Python 3",
   "language": "python",
   "name": "python3"
  },
  "language_info": {
   "codemirror_mode": {
    "name": "ipython",
    "version": 3
   },
   "file_extension": ".py",
   "mimetype": "text/x-python",
   "name": "python",
   "nbconvert_exporter": "python",
   "pygments_lexer": "ipython3",
   "version": "3.8.3"
  }
 },
 "nbformat": 4,
 "nbformat_minor": 4
}
