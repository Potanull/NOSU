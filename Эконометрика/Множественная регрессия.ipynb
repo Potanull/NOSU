{
 "cells": [
  {
   "cell_type": "code",
   "execution_count": 33,
   "id": "dc1b3c65",
   "metadata": {},
   "outputs": [],
   "source": [
    "import pandas as pd\n",
    "import numpy as np\n",
    "import matplotlib as mpl\n",
    "import seaborn as sns\n",
    "import matplotlib.pyplot as plt\n",
    "import scipy.stats as stats\n",
    "\n",
    "from sklearn.datasets import load_boston\n",
    "from sklearn import linear_model\n",
    "from sklearn.metrics import r2_score\n",
    "from sklearn.pipeline import make_pipeline\n",
    "from sklearn.preprocessing import PolynomialFeatures\n",
    "from sklearn.preprocessing import StandardScaler\n",
    "import statsmodels.api as sm\n",
    "import statsmodels.formula.api as smf\n",
    "import warnings\n",
    "warnings.filterwarnings('ignore')\n",
    "\n",
    "%matplotlib inline\n",
    "sns.set(style=\"darkgrid\") "
   ]
  },
  {
   "cell_type": "markdown",
   "id": "9596ee5b",
   "metadata": {},
   "source": [
    "# Множественная регрессия"
   ]
  },
  {
   "cell_type": "markdown",
   "id": "be2ce99e",
   "metadata": {},
   "source": [
    "## Данные"
   ]
  },
  {
   "cell_type": "code",
   "execution_count": 34,
   "id": "8ffc0cf5",
   "metadata": {},
   "outputs": [],
   "source": [
    "dataset = pd.read_csv(\"data-fic.csv\")"
   ]
  },
  {
   "cell_type": "code",
   "execution_count": 64,
   "id": "c99509d0",
   "metadata": {},
   "outputs": [
    {
     "data": {
      "text/html": [
       "<div>\n",
       "<style scoped>\n",
       "    .dataframe tbody tr th:only-of-type {\n",
       "        vertical-align: middle;\n",
       "    }\n",
       "\n",
       "    .dataframe tbody tr th {\n",
       "        vertical-align: top;\n",
       "    }\n",
       "\n",
       "    .dataframe thead th {\n",
       "        text-align: right;\n",
       "    }\n",
       "</style>\n",
       "<table border=\"1\" class=\"dataframe\">\n",
       "  <thead>\n",
       "    <tr style=\"text-align: right;\">\n",
       "      <th></th>\n",
       "      <th>y</th>\n",
       "      <th>x1</th>\n",
       "      <th>x2</th>\n",
       "      <th>x3</th>\n",
       "    </tr>\n",
       "  </thead>\n",
       "  <tbody>\n",
       "    <tr>\n",
       "      <th>0</th>\n",
       "      <td>45</td>\n",
       "      <td>23</td>\n",
       "      <td>0</td>\n",
       "      <td>0</td>\n",
       "    </tr>\n",
       "    <tr>\n",
       "      <th>1</th>\n",
       "      <td>48</td>\n",
       "      <td>25</td>\n",
       "      <td>0</td>\n",
       "      <td>0</td>\n",
       "    </tr>\n",
       "    <tr>\n",
       "      <th>2</th>\n",
       "      <td>54</td>\n",
       "      <td>24</td>\n",
       "      <td>0</td>\n",
       "      <td>0</td>\n",
       "    </tr>\n",
       "    <tr>\n",
       "      <th>3</th>\n",
       "      <td>57</td>\n",
       "      <td>29</td>\n",
       "      <td>0</td>\n",
       "      <td>0</td>\n",
       "    </tr>\n",
       "    <tr>\n",
       "      <th>4</th>\n",
       "      <td>65</td>\n",
       "      <td>38</td>\n",
       "      <td>1</td>\n",
       "      <td>0</td>\n",
       "    </tr>\n",
       "    <tr>\n",
       "      <th>5</th>\n",
       "      <td>69</td>\n",
       "      <td>36</td>\n",
       "      <td>0</td>\n",
       "      <td>0</td>\n",
       "    </tr>\n",
       "    <tr>\n",
       "      <th>6</th>\n",
       "      <td>78</td>\n",
       "      <td>40</td>\n",
       "      <td>1</td>\n",
       "      <td>0</td>\n",
       "    </tr>\n",
       "    <tr>\n",
       "      <th>7</th>\n",
       "      <td>83</td>\n",
       "      <td>59</td>\n",
       "      <td>0</td>\n",
       "      <td>1</td>\n",
       "    </tr>\n",
       "    <tr>\n",
       "      <th>8</th>\n",
       "      <td>98</td>\n",
       "      <td>56</td>\n",
       "      <td>0</td>\n",
       "      <td>1</td>\n",
       "    </tr>\n",
       "    <tr>\n",
       "      <th>9</th>\n",
       "      <td>104</td>\n",
       "      <td>64</td>\n",
       "      <td>1</td>\n",
       "      <td>0</td>\n",
       "    </tr>\n",
       "    <tr>\n",
       "      <th>10</th>\n",
       "      <td>107</td>\n",
       "      <td>53</td>\n",
       "      <td>1</td>\n",
       "      <td>0</td>\n",
       "    </tr>\n",
       "  </tbody>\n",
       "</table>\n",
       "</div>"
      ],
      "text/plain": [
       "      y  x1  x2  x3\n",
       "0    45  23   0   0\n",
       "1    48  25   0   0\n",
       "2    54  24   0   0\n",
       "3    57  29   0   0\n",
       "4    65  38   1   0\n",
       "5    69  36   0   0\n",
       "6    78  40   1   0\n",
       "7    83  59   0   1\n",
       "8    98  56   0   1\n",
       "9   104  64   1   0\n",
       "10  107  53   1   0"
      ]
     },
     "execution_count": 64,
     "metadata": {},
     "output_type": "execute_result"
    }
   ],
   "source": [
    "dataset"
   ]
  },
  {
   "cell_type": "code",
   "execution_count": 36,
   "id": "d35fe2c8",
   "metadata": {},
   "outputs": [
    {
     "data": {
      "text/html": [
       "<div>\n",
       "<style scoped>\n",
       "    .dataframe tbody tr th:only-of-type {\n",
       "        vertical-align: middle;\n",
       "    }\n",
       "\n",
       "    .dataframe tbody tr th {\n",
       "        vertical-align: top;\n",
       "    }\n",
       "\n",
       "    .dataframe thead th {\n",
       "        text-align: right;\n",
       "    }\n",
       "</style>\n",
       "<table border=\"1\" class=\"dataframe\">\n",
       "  <thead>\n",
       "    <tr style=\"text-align: right;\">\n",
       "      <th></th>\n",
       "      <th>y</th>\n",
       "      <th>x1</th>\n",
       "      <th>x2</th>\n",
       "      <th>x3</th>\n",
       "    </tr>\n",
       "  </thead>\n",
       "  <tbody>\n",
       "    <tr>\n",
       "      <th>count</th>\n",
       "      <td>11.000000</td>\n",
       "      <td>11.000000</td>\n",
       "      <td>11.000000</td>\n",
       "      <td>11.000000</td>\n",
       "    </tr>\n",
       "    <tr>\n",
       "      <th>mean</th>\n",
       "      <td>73.454545</td>\n",
       "      <td>40.636364</td>\n",
       "      <td>0.363636</td>\n",
       "      <td>0.181818</td>\n",
       "    </tr>\n",
       "    <tr>\n",
       "      <th>std</th>\n",
       "      <td>22.295128</td>\n",
       "      <td>15.061691</td>\n",
       "      <td>0.504525</td>\n",
       "      <td>0.404520</td>\n",
       "    </tr>\n",
       "    <tr>\n",
       "      <th>min</th>\n",
       "      <td>45.000000</td>\n",
       "      <td>23.000000</td>\n",
       "      <td>0.000000</td>\n",
       "      <td>0.000000</td>\n",
       "    </tr>\n",
       "    <tr>\n",
       "      <th>25%</th>\n",
       "      <td>55.500000</td>\n",
       "      <td>27.000000</td>\n",
       "      <td>0.000000</td>\n",
       "      <td>0.000000</td>\n",
       "    </tr>\n",
       "    <tr>\n",
       "      <th>50%</th>\n",
       "      <td>69.000000</td>\n",
       "      <td>38.000000</td>\n",
       "      <td>0.000000</td>\n",
       "      <td>0.000000</td>\n",
       "    </tr>\n",
       "    <tr>\n",
       "      <th>75%</th>\n",
       "      <td>90.500000</td>\n",
       "      <td>54.500000</td>\n",
       "      <td>1.000000</td>\n",
       "      <td>0.000000</td>\n",
       "    </tr>\n",
       "    <tr>\n",
       "      <th>max</th>\n",
       "      <td>107.000000</td>\n",
       "      <td>64.000000</td>\n",
       "      <td>1.000000</td>\n",
       "      <td>1.000000</td>\n",
       "    </tr>\n",
       "  </tbody>\n",
       "</table>\n",
       "</div>"
      ],
      "text/plain": [
       "                y         x1         x2         x3\n",
       "count   11.000000  11.000000  11.000000  11.000000\n",
       "mean    73.454545  40.636364   0.363636   0.181818\n",
       "std     22.295128  15.061691   0.504525   0.404520\n",
       "min     45.000000  23.000000   0.000000   0.000000\n",
       "25%     55.500000  27.000000   0.000000   0.000000\n",
       "50%     69.000000  38.000000   0.000000   0.000000\n",
       "75%     90.500000  54.500000   1.000000   0.000000\n",
       "max    107.000000  64.000000   1.000000   1.000000"
      ]
     },
     "execution_count": 36,
     "metadata": {},
     "output_type": "execute_result"
    }
   ],
   "source": [
    "dataset.describe()"
   ]
  },
  {
   "cell_type": "code",
   "execution_count": 37,
   "id": "0e7d0323",
   "metadata": {},
   "outputs": [],
   "source": [
    "X = dataset.loc[:, dataset.columns != 'y']\n",
    "y = dataset['y'].values"
   ]
  },
  {
   "cell_type": "code",
   "execution_count": 38,
   "id": "130e6372",
   "metadata": {},
   "outputs": [
    {
     "data": {
      "text/html": [
       "<div>\n",
       "<style scoped>\n",
       "    .dataframe tbody tr th:only-of-type {\n",
       "        vertical-align: middle;\n",
       "    }\n",
       "\n",
       "    .dataframe tbody tr th {\n",
       "        vertical-align: top;\n",
       "    }\n",
       "\n",
       "    .dataframe thead th {\n",
       "        text-align: right;\n",
       "    }\n",
       "</style>\n",
       "<table border=\"1\" class=\"dataframe\">\n",
       "  <thead>\n",
       "    <tr style=\"text-align: right;\">\n",
       "      <th></th>\n",
       "      <th>x1</th>\n",
       "      <th>x2</th>\n",
       "      <th>x3</th>\n",
       "    </tr>\n",
       "  </thead>\n",
       "  <tbody>\n",
       "    <tr>\n",
       "      <th>0</th>\n",
       "      <td>23</td>\n",
       "      <td>0</td>\n",
       "      <td>0</td>\n",
       "    </tr>\n",
       "    <tr>\n",
       "      <th>1</th>\n",
       "      <td>25</td>\n",
       "      <td>0</td>\n",
       "      <td>0</td>\n",
       "    </tr>\n",
       "    <tr>\n",
       "      <th>2</th>\n",
       "      <td>24</td>\n",
       "      <td>0</td>\n",
       "      <td>0</td>\n",
       "    </tr>\n",
       "    <tr>\n",
       "      <th>3</th>\n",
       "      <td>29</td>\n",
       "      <td>0</td>\n",
       "      <td>0</td>\n",
       "    </tr>\n",
       "    <tr>\n",
       "      <th>4</th>\n",
       "      <td>38</td>\n",
       "      <td>1</td>\n",
       "      <td>0</td>\n",
       "    </tr>\n",
       "  </tbody>\n",
       "</table>\n",
       "</div>"
      ],
      "text/plain": [
       "   x1  x2  x3\n",
       "0  23   0   0\n",
       "1  25   0   0\n",
       "2  24   0   0\n",
       "3  29   0   0\n",
       "4  38   1   0"
      ]
     },
     "execution_count": 38,
     "metadata": {},
     "output_type": "execute_result"
    }
   ],
   "source": [
    "X.head()"
   ]
  },
  {
   "cell_type": "code",
   "execution_count": 39,
   "id": "a639110d",
   "metadata": {},
   "outputs": [
    {
     "name": "stdout",
     "output_type": "stream",
     "text": [
      "[ 45  48  54  57  65  69  78  83  98 104 107]\n"
     ]
    }
   ],
   "source": [
    "print(y)"
   ]
  },
  {
   "cell_type": "markdown",
   "id": "2a1b0c74",
   "metadata": {},
   "source": [
    "## Построение со всеми параметрами"
   ]
  },
  {
   "cell_type": "code",
   "execution_count": 40,
   "id": "53fa3605",
   "metadata": {},
   "outputs": [],
   "source": [
    "regr = linear_model.LinearRegression()\n",
    "model = regr.fit(X, y)\n",
    "Xc = sm.add_constant(X)\n",
    "tmp = sm.OLS(y, Xc)\n",
    "result = tmp.fit()"
   ]
  },
  {
   "cell_type": "code",
   "execution_count": 41,
   "id": "69ab2469",
   "metadata": {},
   "outputs": [
    {
     "data": {
      "text/html": [
       "<table class=\"simpletable\">\n",
       "<caption>OLS Regression Results</caption>\n",
       "<tr>\n",
       "  <th>Dep. Variable:</th>            <td>y</td>        <th>  R-squared:         </th> <td>   0.901</td>\n",
       "</tr>\n",
       "<tr>\n",
       "  <th>Model:</th>                   <td>OLS</td>       <th>  Adj. R-squared:    </th> <td>   0.858</td>\n",
       "</tr>\n",
       "<tr>\n",
       "  <th>Method:</th>             <td>Least Squares</td>  <th>  F-statistic:       </th> <td>   21.20</td>\n",
       "</tr>\n",
       "<tr>\n",
       "  <th>Date:</th>             <td>Tue, 30 May 2023</td> <th>  Prob (F-statistic):</th> <td>0.000687</td>\n",
       "</tr>\n",
       "<tr>\n",
       "  <th>Time:</th>                 <td>09:41:37</td>     <th>  Log-Likelihood:    </th> <td> -36.521</td>\n",
       "</tr>\n",
       "<tr>\n",
       "  <th>No. Observations:</th>      <td>    11</td>      <th>  AIC:               </th> <td>   81.04</td>\n",
       "</tr>\n",
       "<tr>\n",
       "  <th>Df Residuals:</th>          <td>     7</td>      <th>  BIC:               </th> <td>   82.63</td>\n",
       "</tr>\n",
       "<tr>\n",
       "  <th>Df Model:</th>              <td>     3</td>      <th>                     </th>     <td> </td>   \n",
       "</tr>\n",
       "<tr>\n",
       "  <th>Covariance Type:</th>      <td>nonrobust</td>    <th>                     </th>     <td> </td>   \n",
       "</tr>\n",
       "</table>\n",
       "<table class=\"simpletable\">\n",
       "<tr>\n",
       "    <td></td>       <th>coef</th>     <th>std err</th>      <th>t</th>      <th>P>|t|</th>  <th>[0.025</th>    <th>0.975]</th>  \n",
       "</tr>\n",
       "<tr>\n",
       "  <th>const</th> <td>   14.2761</td> <td>   10.411</td> <td>    1.371</td> <td> 0.213</td> <td>  -10.343</td> <td>   38.895</td>\n",
       "</tr>\n",
       "<tr>\n",
       "  <th>x1</th>    <td>    1.4717</td> <td>    0.354</td> <td>    4.152</td> <td> 0.004</td> <td>    0.634</td> <td>    2.310</td>\n",
       "</tr>\n",
       "<tr>\n",
       "  <th>x2</th>    <td>    2.4797</td> <td>    9.431</td> <td>    0.263</td> <td> 0.800</td> <td>  -19.822</td> <td>   24.781</td>\n",
       "</tr>\n",
       "<tr>\n",
       "  <th>x3</th>    <td>   -8.3974</td> <td>   12.771</td> <td>   -0.658</td> <td> 0.532</td> <td>  -38.597</td> <td>   21.802</td>\n",
       "</tr>\n",
       "</table>\n",
       "<table class=\"simpletable\">\n",
       "<tr>\n",
       "  <th>Omnibus:</th>       <td> 0.529</td> <th>  Durbin-Watson:     </th> <td>   2.825</td>\n",
       "</tr>\n",
       "<tr>\n",
       "  <th>Prob(Omnibus):</th> <td> 0.768</td> <th>  Jarque-Bera (JB):  </th> <td>   0.562</td>\n",
       "</tr>\n",
       "<tr>\n",
       "  <th>Skew:</th>          <td> 0.331</td> <th>  Prob(JB):          </th> <td>   0.755</td>\n",
       "</tr>\n",
       "<tr>\n",
       "  <th>Kurtosis:</th>      <td> 2.112</td> <th>  Cond. No.          </th> <td>    291.</td>\n",
       "</tr>\n",
       "</table><br/><br/>Notes:<br/>[1] Standard Errors assume that the covariance matrix of the errors is correctly specified."
      ],
      "text/plain": [
       "<class 'statsmodels.iolib.summary.Summary'>\n",
       "\"\"\"\n",
       "                            OLS Regression Results                            \n",
       "==============================================================================\n",
       "Dep. Variable:                      y   R-squared:                       0.901\n",
       "Model:                            OLS   Adj. R-squared:                  0.858\n",
       "Method:                 Least Squares   F-statistic:                     21.20\n",
       "Date:                Tue, 30 May 2023   Prob (F-statistic):           0.000687\n",
       "Time:                        09:41:37   Log-Likelihood:                -36.521\n",
       "No. Observations:                  11   AIC:                             81.04\n",
       "Df Residuals:                       7   BIC:                             82.63\n",
       "Df Model:                           3                                         \n",
       "Covariance Type:            nonrobust                                         \n",
       "==============================================================================\n",
       "                 coef    std err          t      P>|t|      [0.025      0.975]\n",
       "------------------------------------------------------------------------------\n",
       "const         14.2761     10.411      1.371      0.213     -10.343      38.895\n",
       "x1             1.4717      0.354      4.152      0.004       0.634       2.310\n",
       "x2             2.4797      9.431      0.263      0.800     -19.822      24.781\n",
       "x3            -8.3974     12.771     -0.658      0.532     -38.597      21.802\n",
       "==============================================================================\n",
       "Omnibus:                        0.529   Durbin-Watson:                   2.825\n",
       "Prob(Omnibus):                  0.768   Jarque-Bera (JB):                0.562\n",
       "Skew:                           0.331   Prob(JB):                        0.755\n",
       "Kurtosis:                       2.112   Cond. No.                         291.\n",
       "==============================================================================\n",
       "\n",
       "Notes:\n",
       "[1] Standard Errors assume that the covariance matrix of the errors is correctly specified.\n",
       "\"\"\""
      ]
     },
     "execution_count": 41,
     "metadata": {},
     "output_type": "execute_result"
    }
   ],
   "source": [
    "result.summary()"
   ]
  },
  {
   "cell_type": "markdown",
   "id": "ed94771a",
   "metadata": {},
   "source": [
    "### Результат"
   ]
  },
  {
   "cell_type": "code",
   "execution_count": 42,
   "id": "60dc2a27",
   "metadata": {},
   "outputs": [],
   "source": [
    "coeff = result.params"
   ]
  },
  {
   "cell_type": "code",
   "execution_count": 43,
   "id": "bbd5447d",
   "metadata": {},
   "outputs": [],
   "source": [
    "def getFunc(coeff, k):\n",
    "    res = \"\"\n",
    "    for i in range(0, len(coeff)):\n",
    "        if(i == 0):\n",
    "            res += str(round(coeff[i], 4))\n",
    "            continue\n",
    "        \n",
    "        if(coeff[i] > 0):\n",
    "            res += ' + ' + str(round(coeff[i], k)) + ' * x' + str(i)\n",
    "        else:\n",
    "            res += ' - ' + str(abs(round(coeff[i], k))) + ' * x' + str(i)\n",
    "    return res"
   ]
  },
  {
   "cell_type": "code",
   "execution_count": 44,
   "id": "63d38409",
   "metadata": {},
   "outputs": [
    {
     "name": "stdout",
     "output_type": "stream",
     "text": [
      "f = 14.2761 + 1.4717 * x1 + 2.4797 * x2 - 8.3974 * x3\n"
     ]
    }
   ],
   "source": [
    "print('f =', getFunc(coeff, 4))"
   ]
  },
  {
   "cell_type": "markdown",
   "id": "73bd7a6a",
   "metadata": {},
   "source": [
    "#### Коэффицент множественной дисперсии"
   ]
  },
  {
   "cell_type": "code",
   "execution_count": 45,
   "id": "e4266e36",
   "metadata": {},
   "outputs": [],
   "source": [
    "R_2 = result.rsquared"
   ]
  },
  {
   "cell_type": "code",
   "execution_count": 46,
   "id": "f2d3b0a5",
   "metadata": {},
   "outputs": [
    {
     "name": "stdout",
     "output_type": "stream",
     "text": [
      "Модель регрессии на 90.10000000000001% объясняет поведение\n",
      "результативного признака y в зависимости от\n",
      "фактора x, 9.899999999999999% на долю неучтенных факторов\n"
     ]
    }
   ],
   "source": [
    "print(f'Модель регрессии на {round(R_2, 3) * 100}% объясняет поведение\\n' + \n",
    "      f'результативного признака y в зависимости от\\n'+\n",
    "      f'фактора x, {(1 - round(R_2, 3)) * 100}% на долю неучтенных факторов')"
   ]
  },
  {
   "cell_type": "markdown",
   "id": "71de9d4f",
   "metadata": {},
   "source": [
    "#### Средняя ошибка апроксимации"
   ]
  },
  {
   "cell_type": "code",
   "execution_count": 47,
   "id": "3e46d6fd",
   "metadata": {},
   "outputs": [],
   "source": [
    "def meanErrorAproc(y, y_cal):\n",
    "    A = 0\n",
    "    for i in range(len(y)):\n",
    "        A += abs((y_cal[i] - y[i]) / y[i])\n",
    "    A /= len(y)\n",
    "    return A * 100"
   ]
  },
  {
   "cell_type": "code",
   "execution_count": 48,
   "id": "5ace7744",
   "metadata": {},
   "outputs": [
    {
     "name": "stdout",
     "output_type": "stream",
     "text": [
      "Средняя ошибка апроксимации: 7.15 %\n"
     ]
    }
   ],
   "source": [
    "print('Средняя ошибка апроксимации:', round(meanErrorAproc(y, model.predict(X)), 2), '%')"
   ]
  },
  {
   "cell_type": "markdown",
   "id": "1e2d15c9",
   "metadata": {},
   "source": [
    "#### Критерий Фишера. Оценка статистической значимости уравнения регрессии"
   ]
  },
  {
   "cell_type": "code",
   "execution_count": 49,
   "id": "351e2e96",
   "metadata": {},
   "outputs": [
    {
     "name": "stdout",
     "output_type": "stream",
     "text": [
      "21.199306682291617 4.346831399907815\n"
     ]
    }
   ],
   "source": [
    "F_calc = result.fvalue\n",
    "F_tabl = stats.f.isf(0.05, len(X.columns), len(y) - len(X.columns) - 1)\n",
    "print(F_calc, F_tabl)"
   ]
  },
  {
   "cell_type": "code",
   "execution_count": 50,
   "id": "29722145",
   "metadata": {},
   "outputs": [
    {
     "name": "stdout",
     "output_type": "stream",
     "text": [
      "Статистическая значимость уравнение регрессии признается\n"
     ]
    }
   ],
   "source": [
    "if (F_calc > F_tabl):\n",
    "    print('Статистическая значимость уравнение регрессии признается')\n",
    "else:\n",
    "    print('Статистическая значимость уравнение регрессии не признается')"
   ]
  },
  {
   "cell_type": "markdown",
   "id": "7cf3979b",
   "metadata": {},
   "source": [
    "## Оптимальное построение"
   ]
  },
  {
   "cell_type": "code",
   "execution_count": 51,
   "id": "314659a1",
   "metadata": {},
   "outputs": [
    {
     "name": "stdout",
     "output_type": "stream",
     "text": [
      "           y        x1        x2        x3\n",
      "y   1.000000  0.933829  0.535023  0.377997\n",
      "x1  0.933829  1.000000  0.427090  0.553564\n",
      "x2  0.535023  0.427090  1.000000 -0.356348\n",
      "x3  0.377997  0.553564 -0.356348  1.000000\n"
     ]
    }
   ],
   "source": [
    "matriz_corr = dataset.corr()\n",
    "print(matriz_corr)"
   ]
  },
  {
   "cell_type": "code",
   "execution_count": 52,
   "id": "e78facd8",
   "metadata": {},
   "outputs": [],
   "source": [
    "fewX = dataset[['x3', 'x2']]\n",
    "regr = linear_model.LinearRegression()\n",
    "model_opt = regr.fit(fewX, y)\n",
    "Xc = sm.add_constant(fewX)\n",
    "tmp = sm.OLS(y, Xc)\n",
    "result = tmp.fit()"
   ]
  },
  {
   "cell_type": "code",
   "execution_count": 53,
   "id": "6e203ca2",
   "metadata": {},
   "outputs": [
    {
     "data": {
      "text/html": [
       "<table class=\"simpletable\">\n",
       "<caption>OLS Regression Results</caption>\n",
       "<tr>\n",
       "  <th>Dep. Variable:</th>            <td>y</td>        <th>  R-squared:         </th> <td>   0.657</td>\n",
       "</tr>\n",
       "<tr>\n",
       "  <th>Model:</th>                   <td>OLS</td>       <th>  Adj. R-squared:    </th> <td>   0.571</td>\n",
       "</tr>\n",
       "<tr>\n",
       "  <th>Method:</th>             <td>Least Squares</td>  <th>  F-statistic:       </th> <td>   7.650</td>\n",
       "</tr>\n",
       "<tr>\n",
       "  <th>Date:</th>             <td>Tue, 30 May 2023</td> <th>  Prob (F-statistic):</th>  <td>0.0139</td> \n",
       "</tr>\n",
       "<tr>\n",
       "  <th>Time:</th>                 <td>09:41:39</td>     <th>  Log-Likelihood:    </th> <td> -43.353</td>\n",
       "</tr>\n",
       "<tr>\n",
       "  <th>No. Observations:</th>      <td>    11</td>      <th>  AIC:               </th> <td>   92.71</td>\n",
       "</tr>\n",
       "<tr>\n",
       "  <th>Df Residuals:</th>          <td>     8</td>      <th>  BIC:               </th> <td>   93.90</td>\n",
       "</tr>\n",
       "<tr>\n",
       "  <th>Df Model:</th>              <td>     2</td>      <th>                     </th>     <td> </td>   \n",
       "</tr>\n",
       "<tr>\n",
       "  <th>Covariance Type:</th>      <td>nonrobust</td>    <th>                     </th>     <td> </td>   \n",
       "</tr>\n",
       "</table>\n",
       "<table class=\"simpletable\">\n",
       "<tr>\n",
       "    <td></td>       <th>coef</th>     <th>std err</th>      <th>t</th>      <th>P>|t|</th>  <th>[0.025</th>    <th>0.975]</th>  \n",
       "</tr>\n",
       "<tr>\n",
       "  <th>const</th> <td>   54.6000</td> <td>    6.532</td> <td>    8.359</td> <td> 0.000</td> <td>   39.537</td> <td>   69.663</td>\n",
       "</tr>\n",
       "<tr>\n",
       "  <th>x3</th>    <td>   35.9000</td> <td>   12.220</td> <td>    2.938</td> <td> 0.019</td> <td>    7.720</td> <td>   64.080</td>\n",
       "</tr>\n",
       "<tr>\n",
       "  <th>x2</th>    <td>   33.9000</td> <td>    9.798</td> <td>    3.460</td> <td> 0.009</td> <td>   11.306</td> <td>   56.494</td>\n",
       "</tr>\n",
       "</table>\n",
       "<table class=\"simpletable\">\n",
       "<tr>\n",
       "  <th>Omnibus:</th>       <td> 0.242</td> <th>  Durbin-Watson:     </th> <td>   1.809</td>\n",
       "</tr>\n",
       "<tr>\n",
       "  <th>Prob(Omnibus):</th> <td> 0.886</td> <th>  Jarque-Bera (JB):  </th> <td>   0.405</td>\n",
       "</tr>\n",
       "<tr>\n",
       "  <th>Skew:</th>          <td>-0.106</td> <th>  Prob(JB):          </th> <td>   0.816</td>\n",
       "</tr>\n",
       "<tr>\n",
       "  <th>Kurtosis:</th>      <td> 2.084</td> <th>  Cond. No.          </th> <td>    3.47</td>\n",
       "</tr>\n",
       "</table><br/><br/>Notes:<br/>[1] Standard Errors assume that the covariance matrix of the errors is correctly specified."
      ],
      "text/plain": [
       "<class 'statsmodels.iolib.summary.Summary'>\n",
       "\"\"\"\n",
       "                            OLS Regression Results                            \n",
       "==============================================================================\n",
       "Dep. Variable:                      y   R-squared:                       0.657\n",
       "Model:                            OLS   Adj. R-squared:                  0.571\n",
       "Method:                 Least Squares   F-statistic:                     7.650\n",
       "Date:                Tue, 30 May 2023   Prob (F-statistic):             0.0139\n",
       "Time:                        09:41:39   Log-Likelihood:                -43.353\n",
       "No. Observations:                  11   AIC:                             92.71\n",
       "Df Residuals:                       8   BIC:                             93.90\n",
       "Df Model:                           2                                         \n",
       "Covariance Type:            nonrobust                                         \n",
       "==============================================================================\n",
       "                 coef    std err          t      P>|t|      [0.025      0.975]\n",
       "------------------------------------------------------------------------------\n",
       "const         54.6000      6.532      8.359      0.000      39.537      69.663\n",
       "x3            35.9000     12.220      2.938      0.019       7.720      64.080\n",
       "x2            33.9000      9.798      3.460      0.009      11.306      56.494\n",
       "==============================================================================\n",
       "Omnibus:                        0.242   Durbin-Watson:                   1.809\n",
       "Prob(Omnibus):                  0.886   Jarque-Bera (JB):                0.405\n",
       "Skew:                          -0.106   Prob(JB):                        0.816\n",
       "Kurtosis:                       2.084   Cond. No.                         3.47\n",
       "==============================================================================\n",
       "\n",
       "Notes:\n",
       "[1] Standard Errors assume that the covariance matrix of the errors is correctly specified.\n",
       "\"\"\""
      ]
     },
     "execution_count": 53,
     "metadata": {},
     "output_type": "execute_result"
    }
   ],
   "source": [
    "result.summary()"
   ]
  },
  {
   "cell_type": "code",
   "execution_count": 54,
   "id": "bae51466",
   "metadata": {},
   "outputs": [],
   "source": [
    "coeff = result.params"
   ]
  },
  {
   "cell_type": "code",
   "execution_count": 55,
   "id": "80373cd9",
   "metadata": {},
   "outputs": [],
   "source": [
    "def getFunc(coeff, k):\n",
    "    res = \"\"\n",
    "    for i in range(0, len(coeff)):\n",
    "        if(i == 0):\n",
    "            res += str(round(coeff[i], 4))\n",
    "            continue\n",
    "        \n",
    "        if(coeff[i] > 0):\n",
    "            res += ' + ' + str(round(coeff[i], k)) + ' * x' + str(i)\n",
    "        else:\n",
    "            res += ' - ' + str(abs(round(coeff[i], k))) + ' * x' + str(i)\n",
    "    return res"
   ]
  },
  {
   "cell_type": "code",
   "execution_count": 56,
   "id": "b224d85b",
   "metadata": {},
   "outputs": [
    {
     "name": "stdout",
     "output_type": "stream",
     "text": [
      "f = 54.6 + 35.9 * x1 + 33.9 * x2\n"
     ]
    }
   ],
   "source": [
    "print('f =', getFunc(coeff, 4))"
   ]
  },
  {
   "cell_type": "code",
   "execution_count": 57,
   "id": "6effae59",
   "metadata": {},
   "outputs": [],
   "source": [
    "R_2 = result.rsquared"
   ]
  },
  {
   "cell_type": "code",
   "execution_count": 58,
   "id": "0be0fc2f",
   "metadata": {},
   "outputs": [
    {
     "name": "stdout",
     "output_type": "stream",
     "text": [
      "Модель регрессии на 65.7% объясняет поведение\n",
      "результативного признака y в зависимости от\n",
      "фактора x, 34.3% на долю неучтенных факторов\n"
     ]
    }
   ],
   "source": [
    "print(f'Модель регрессии на {round(R_2, 3) * 100}% объясняет поведение\\n' + \n",
    "      f'результативного признака y в зависимости от\\n'+\n",
    "      f'фактора x, {(1 - round(R_2, 3)) * 100}% на долю неучтенных факторов')"
   ]
  },
  {
   "cell_type": "code",
   "execution_count": 59,
   "id": "16fc6c4c",
   "metadata": {},
   "outputs": [],
   "source": [
    "def meanErrorAproc(y, y_cal):\n",
    "    A = 0\n",
    "    for i in range(len(y)):\n",
    "        A += abs((y_cal[i] - y[i]) / y[i])\n",
    "    A /= len(y)\n",
    "    return A * 100"
   ]
  },
  {
   "cell_type": "code",
   "execution_count": 60,
   "id": "593852cb",
   "metadata": {},
   "outputs": [
    {
     "name": "stdout",
     "output_type": "stream",
     "text": [
      "Средняя ошибка апроксимации: 14.52 %\n"
     ]
    }
   ],
   "source": [
    "print('Средняя ошибка апроксимации:', round(meanErrorAproc(y, model_opt.predict(fewX)), 2), '%')"
   ]
  },
  {
   "cell_type": "code",
   "execution_count": 61,
   "id": "7c6584bb",
   "metadata": {},
   "outputs": [
    {
     "name": "stdout",
     "output_type": "stream",
     "text": [
      "7.649914508061812 4.458970107524511\n"
     ]
    }
   ],
   "source": [
    "F_calc = result.fvalue\n",
    "F_tabl = stats.f.isf(0.05, len(fewX.columns), len(y) - len(fewX.columns) - 1)\n",
    "print(F_calc, F_tabl)"
   ]
  },
  {
   "cell_type": "code",
   "execution_count": 62,
   "id": "19ba279a",
   "metadata": {},
   "outputs": [
    {
     "name": "stdout",
     "output_type": "stream",
     "text": [
      "Статистическая значимость уравнение регрессии признается\n"
     ]
    }
   ],
   "source": [
    "if (F_calc > F_tabl):\n",
    "    print('Статистическая значимость уравнение регрессии признается')\n",
    "else:\n",
    "    print('Статистическая значимость уравнение регрессии не признается')"
   ]
  },
  {
   "cell_type": "code",
   "execution_count": 63,
   "id": "e73ed59b",
   "metadata": {},
   "outputs": [
    {
     "ename": "ValueError",
     "evalue": "x and y must be the same size",
     "output_type": "error",
     "traceback": [
      "\u001b[1;31m---------------------------------------------------------------------------\u001b[0m",
      "\u001b[1;31mValueError\u001b[0m                                Traceback (most recent call last)",
      "\u001b[1;32m~\\AppData\\Local\\Temp\\ipykernel_15084\\2465433129.py\u001b[0m in \u001b[0;36m<module>\u001b[1;34m\u001b[0m\n\u001b[0;32m      1\u001b[0m \u001b[0mplt\u001b[0m\u001b[1;33m.\u001b[0m\u001b[0mfigure\u001b[0m\u001b[1;33m(\u001b[0m\u001b[0mfigsize\u001b[0m \u001b[1;33m=\u001b[0m \u001b[1;33m(\u001b[0m\u001b[1;36m20\u001b[0m\u001b[1;33m,\u001b[0m\u001b[1;36m10\u001b[0m\u001b[1;33m)\u001b[0m\u001b[1;33m,\u001b[0m \u001b[0mdpi\u001b[0m \u001b[1;33m=\u001b[0m \u001b[1;36m80\u001b[0m\u001b[1;33m)\u001b[0m\u001b[1;33m\u001b[0m\u001b[1;33m\u001b[0m\u001b[0m\n\u001b[0;32m      2\u001b[0m \u001b[0mpolyline\u001b[0m \u001b[1;33m=\u001b[0m \u001b[0mnp\u001b[0m\u001b[1;33m.\u001b[0m\u001b[0mlinspace\u001b[0m\u001b[1;33m(\u001b[0m\u001b[1;36m1\u001b[0m\u001b[1;33m,\u001b[0m \u001b[1;36m25\u001b[0m\u001b[1;33m,\u001b[0m \u001b[1;36m25\u001b[0m\u001b[1;33m)\u001b[0m\u001b[1;33m\u001b[0m\u001b[1;33m\u001b[0m\u001b[0m\n\u001b[1;32m----> 3\u001b[1;33m \u001b[0mplt\u001b[0m\u001b[1;33m.\u001b[0m\u001b[0mscatter\u001b[0m\u001b[1;33m(\u001b[0m\u001b[0mpolyline\u001b[0m\u001b[1;33m,\u001b[0m \u001b[0mmodel_opt\u001b[0m\u001b[1;33m.\u001b[0m\u001b[0mpredict\u001b[0m\u001b[1;33m(\u001b[0m\u001b[0mfewX\u001b[0m\u001b[1;33m)\u001b[0m\u001b[1;33m,\u001b[0m \u001b[0mlabel\u001b[0m\u001b[1;33m=\u001b[0m\u001b[1;34m'New'\u001b[0m\u001b[1;33m)\u001b[0m\u001b[1;33m\u001b[0m\u001b[1;33m\u001b[0m\u001b[0m\n\u001b[0m\u001b[0;32m      4\u001b[0m \u001b[0mplt\u001b[0m\u001b[1;33m.\u001b[0m\u001b[0mscatter\u001b[0m\u001b[1;33m(\u001b[0m\u001b[0mpolyline\u001b[0m\u001b[1;33m,\u001b[0m \u001b[0mmodel\u001b[0m\u001b[1;33m.\u001b[0m\u001b[0mpredict\u001b[0m\u001b[1;33m(\u001b[0m\u001b[0mX\u001b[0m\u001b[1;33m)\u001b[0m\u001b[1;33m,\u001b[0m \u001b[0mlabel\u001b[0m\u001b[1;33m=\u001b[0m\u001b[1;34m'Old'\u001b[0m\u001b[1;33m)\u001b[0m\u001b[1;33m\u001b[0m\u001b[1;33m\u001b[0m\u001b[0m\n\u001b[0;32m      5\u001b[0m \u001b[0mplt\u001b[0m\u001b[1;33m.\u001b[0m\u001b[0mlegend\u001b[0m\u001b[1;33m(\u001b[0m\u001b[1;33m)\u001b[0m\u001b[1;33m\u001b[0m\u001b[1;33m\u001b[0m\u001b[0m\n",
      "\u001b[1;32mC:\\ProgramData\\Anaconda3\\lib\\site-packages\\matplotlib\\pyplot.py\u001b[0m in \u001b[0;36mscatter\u001b[1;34m(x, y, s, c, marker, cmap, norm, vmin, vmax, alpha, linewidths, edgecolors, plotnonfinite, data, **kwargs)\u001b[0m\n\u001b[0;32m   2817\u001b[0m         \u001b[0mvmin\u001b[0m\u001b[1;33m=\u001b[0m\u001b[1;32mNone\u001b[0m\u001b[1;33m,\u001b[0m \u001b[0mvmax\u001b[0m\u001b[1;33m=\u001b[0m\u001b[1;32mNone\u001b[0m\u001b[1;33m,\u001b[0m \u001b[0malpha\u001b[0m\u001b[1;33m=\u001b[0m\u001b[1;32mNone\u001b[0m\u001b[1;33m,\u001b[0m \u001b[0mlinewidths\u001b[0m\u001b[1;33m=\u001b[0m\u001b[1;32mNone\u001b[0m\u001b[1;33m,\u001b[0m \u001b[1;33m*\u001b[0m\u001b[1;33m,\u001b[0m\u001b[1;33m\u001b[0m\u001b[1;33m\u001b[0m\u001b[0m\n\u001b[0;32m   2818\u001b[0m         edgecolors=None, plotnonfinite=False, data=None, **kwargs):\n\u001b[1;32m-> 2819\u001b[1;33m     __ret = gca().scatter(\n\u001b[0m\u001b[0;32m   2820\u001b[0m         \u001b[0mx\u001b[0m\u001b[1;33m,\u001b[0m \u001b[0my\u001b[0m\u001b[1;33m,\u001b[0m \u001b[0ms\u001b[0m\u001b[1;33m=\u001b[0m\u001b[0ms\u001b[0m\u001b[1;33m,\u001b[0m \u001b[0mc\u001b[0m\u001b[1;33m=\u001b[0m\u001b[0mc\u001b[0m\u001b[1;33m,\u001b[0m \u001b[0mmarker\u001b[0m\u001b[1;33m=\u001b[0m\u001b[0mmarker\u001b[0m\u001b[1;33m,\u001b[0m \u001b[0mcmap\u001b[0m\u001b[1;33m=\u001b[0m\u001b[0mcmap\u001b[0m\u001b[1;33m,\u001b[0m \u001b[0mnorm\u001b[0m\u001b[1;33m=\u001b[0m\u001b[0mnorm\u001b[0m\u001b[1;33m,\u001b[0m\u001b[1;33m\u001b[0m\u001b[1;33m\u001b[0m\u001b[0m\n\u001b[0;32m   2821\u001b[0m         \u001b[0mvmin\u001b[0m\u001b[1;33m=\u001b[0m\u001b[0mvmin\u001b[0m\u001b[1;33m,\u001b[0m \u001b[0mvmax\u001b[0m\u001b[1;33m=\u001b[0m\u001b[0mvmax\u001b[0m\u001b[1;33m,\u001b[0m \u001b[0malpha\u001b[0m\u001b[1;33m=\u001b[0m\u001b[0malpha\u001b[0m\u001b[1;33m,\u001b[0m \u001b[0mlinewidths\u001b[0m\u001b[1;33m=\u001b[0m\u001b[0mlinewidths\u001b[0m\u001b[1;33m,\u001b[0m\u001b[1;33m\u001b[0m\u001b[1;33m\u001b[0m\u001b[0m\n",
      "\u001b[1;32mC:\\ProgramData\\Anaconda3\\lib\\site-packages\\matplotlib\\__init__.py\u001b[0m in \u001b[0;36minner\u001b[1;34m(ax, data, *args, **kwargs)\u001b[0m\n\u001b[0;32m   1410\u001b[0m     \u001b[1;32mdef\u001b[0m \u001b[0minner\u001b[0m\u001b[1;33m(\u001b[0m\u001b[0max\u001b[0m\u001b[1;33m,\u001b[0m \u001b[1;33m*\u001b[0m\u001b[0margs\u001b[0m\u001b[1;33m,\u001b[0m \u001b[0mdata\u001b[0m\u001b[1;33m=\u001b[0m\u001b[1;32mNone\u001b[0m\u001b[1;33m,\u001b[0m \u001b[1;33m**\u001b[0m\u001b[0mkwargs\u001b[0m\u001b[1;33m)\u001b[0m\u001b[1;33m:\u001b[0m\u001b[1;33m\u001b[0m\u001b[1;33m\u001b[0m\u001b[0m\n\u001b[0;32m   1411\u001b[0m         \u001b[1;32mif\u001b[0m \u001b[0mdata\u001b[0m \u001b[1;32mis\u001b[0m \u001b[1;32mNone\u001b[0m\u001b[1;33m:\u001b[0m\u001b[1;33m\u001b[0m\u001b[1;33m\u001b[0m\u001b[0m\n\u001b[1;32m-> 1412\u001b[1;33m             \u001b[1;32mreturn\u001b[0m \u001b[0mfunc\u001b[0m\u001b[1;33m(\u001b[0m\u001b[0max\u001b[0m\u001b[1;33m,\u001b[0m \u001b[1;33m*\u001b[0m\u001b[0mmap\u001b[0m\u001b[1;33m(\u001b[0m\u001b[0msanitize_sequence\u001b[0m\u001b[1;33m,\u001b[0m \u001b[0margs\u001b[0m\u001b[1;33m)\u001b[0m\u001b[1;33m,\u001b[0m \u001b[1;33m**\u001b[0m\u001b[0mkwargs\u001b[0m\u001b[1;33m)\u001b[0m\u001b[1;33m\u001b[0m\u001b[1;33m\u001b[0m\u001b[0m\n\u001b[0m\u001b[0;32m   1413\u001b[0m \u001b[1;33m\u001b[0m\u001b[0m\n\u001b[0;32m   1414\u001b[0m         \u001b[0mbound\u001b[0m \u001b[1;33m=\u001b[0m \u001b[0mnew_sig\u001b[0m\u001b[1;33m.\u001b[0m\u001b[0mbind\u001b[0m\u001b[1;33m(\u001b[0m\u001b[0max\u001b[0m\u001b[1;33m,\u001b[0m \u001b[1;33m*\u001b[0m\u001b[0margs\u001b[0m\u001b[1;33m,\u001b[0m \u001b[1;33m**\u001b[0m\u001b[0mkwargs\u001b[0m\u001b[1;33m)\u001b[0m\u001b[1;33m\u001b[0m\u001b[1;33m\u001b[0m\u001b[0m\n",
      "\u001b[1;32mC:\\ProgramData\\Anaconda3\\lib\\site-packages\\matplotlib\\axes\\_axes.py\u001b[0m in \u001b[0;36mscatter\u001b[1;34m(self, x, y, s, c, marker, cmap, norm, vmin, vmax, alpha, linewidths, edgecolors, plotnonfinite, **kwargs)\u001b[0m\n\u001b[0;32m   4360\u001b[0m         \u001b[0my\u001b[0m \u001b[1;33m=\u001b[0m \u001b[0mnp\u001b[0m\u001b[1;33m.\u001b[0m\u001b[0mma\u001b[0m\u001b[1;33m.\u001b[0m\u001b[0mravel\u001b[0m\u001b[1;33m(\u001b[0m\u001b[0my\u001b[0m\u001b[1;33m)\u001b[0m\u001b[1;33m\u001b[0m\u001b[1;33m\u001b[0m\u001b[0m\n\u001b[0;32m   4361\u001b[0m         \u001b[1;32mif\u001b[0m \u001b[0mx\u001b[0m\u001b[1;33m.\u001b[0m\u001b[0msize\u001b[0m \u001b[1;33m!=\u001b[0m \u001b[0my\u001b[0m\u001b[1;33m.\u001b[0m\u001b[0msize\u001b[0m\u001b[1;33m:\u001b[0m\u001b[1;33m\u001b[0m\u001b[1;33m\u001b[0m\u001b[0m\n\u001b[1;32m-> 4362\u001b[1;33m             \u001b[1;32mraise\u001b[0m \u001b[0mValueError\u001b[0m\u001b[1;33m(\u001b[0m\u001b[1;34m\"x and y must be the same size\"\u001b[0m\u001b[1;33m)\u001b[0m\u001b[1;33m\u001b[0m\u001b[1;33m\u001b[0m\u001b[0m\n\u001b[0m\u001b[0;32m   4363\u001b[0m \u001b[1;33m\u001b[0m\u001b[0m\n\u001b[0;32m   4364\u001b[0m         \u001b[1;32mif\u001b[0m \u001b[0ms\u001b[0m \u001b[1;32mis\u001b[0m \u001b[1;32mNone\u001b[0m\u001b[1;33m:\u001b[0m\u001b[1;33m\u001b[0m\u001b[1;33m\u001b[0m\u001b[0m\n",
      "\u001b[1;31mValueError\u001b[0m: x and y must be the same size"
     ]
    },
    {
     "data": {
      "image/png": "[encoded data removed]",
      "text/plain": [
       "<Figure size 1600x800 with 1 Axes>"
      ]
     },
     "metadata": {},
     "output_type": "display_data"
    }
   ],
   "source": [
    "plt.figure(figsize = (20,10), dpi = 80)\n",
    "polyline = np.linspace(1, 25, 25)\n",
    "plt.scatter(polyline, model_opt.predict(fewX), label='New')\n",
    "plt.scatter(polyline, model.predict(X), label='Old')\n",
    "plt.legend()\n",
    "plt.show()"
   ]
  },
  {
   "cell_type": "code",
   "execution_count": null,
   "id": "c76585c4",
   "metadata": {},
   "outputs": [],
   "source": []
  },
  {
   "cell_type": "code",
   "execution_count": null,
   "id": "d634662b",
   "metadata": {},
   "outputs": [],
   "source": []
  }
 ],
 "metadata": {
  "kernelspec": {
   "display_name": "Python 3 (ipykernel)",
   "language": "python",
   "name": "python3"
  },
  "language_info": {
   "codemirror_mode": {
    "name": "ipython",
    "version": 3
   },
   "file_extension": ".py",
   "mimetype": "text/x-python",
   "name": "python",
   "nbconvert_exporter": "python",
   "pygments_lexer": "ipython3",
   "version": "3.9.13"
  }
 },
 "nbformat": 4,
 "nbformat_minor": 5
}
