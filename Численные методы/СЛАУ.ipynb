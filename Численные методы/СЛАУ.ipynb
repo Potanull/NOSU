{
 "cells": [
  {
   "cell_type": "code",
   "execution_count": 1,
   "metadata": {},
   "outputs": [],
   "source": [
    "import numpy as np"
   ]
  },
  {
   "cell_type": "code",
   "execution_count": 2,
   "metadata": {},
   "outputs": [],
   "source": [
    "def PrintSLE(A, f):\n",
    "    for i in range(A.shape[0]):\n",
    "        row = [\"{0:3g}*x{1}\".format(A[i, j], j + 1) for j in range(A.shape[1])]\n",
    "        print(\"[{0}] = [{1:3g}]\".format(\" + \".join(row), f[i]))"
   ]
  },
  {
   "cell_type": "markdown",
   "metadata": {},
   "source": [
    "## Метод Якоби"
   ]
  },
  {
   "cell_type": "code",
   "execution_count": 3,
   "metadata": {},
   "outputs": [],
   "source": [
    "def Jacobi(A, f, N = 1000):\n",
    "    PrintSLE(A, f)\n",
    "    \n",
    "    x = np.zeros_like(f)\n",
    "    for u in range(N):\n",
    "        x_new = np.zeros_like(x)\n",
    "        if u != 0:\n",
    "            print(\"Iteration {0}: {1}\".format(u, x))\n",
    "        for i in range(A.shape[0]):\n",
    "            s1 = np.dot(A[i, :i], x[:i])\n",
    "            s2 = np.dot(A[i, i + 1:], x[i + 1:])\n",
    "            x_new[i] = (f[i] - s1 - s2) / A[i, i]\n",
    "        if np.allclose(x, x_new, rtol=1e-8):\n",
    "            break\n",
    "        x = x_new\n",
    "\n",
    "    return x"
   ]
  },
  {
   "cell_type": "markdown",
   "metadata": {},
   "source": [
    "## Метод Гаусса-Зейделя"
   ]
  },
  {
   "cell_type": "code",
   "execution_count": 4,
   "metadata": {},
   "outputs": [],
   "source": [
    "def Gauss_Seidel(A, f, N = 1000):\n",
    "    PrintSLE(A, f)\n",
    "    \n",
    "    x = np.zeros_like(f)\n",
    "    for u in range(1, N):\n",
    "        x_new = np.zeros_like(x)\n",
    "        if u != 0:\n",
    "            print(\"Iteration {0}: {1}\".format(u, x))\n",
    "        for i in range(A.shape[0]):\n",
    "            s1 = np.dot(A[i, :i], x_new[:i])\n",
    "            s2 = np.dot(A[i, i + 1 :], x[i + 1:])\n",
    "            x_new[i] = (f[i] - s1 - s2) / A[i, i]\n",
    "        if np.allclose(x, x_new, rtol=1e-8):\n",
    "            break\n",
    "        x = x_new\n",
    "    return x"
   ]
  },
  {
   "cell_type": "markdown",
   "metadata": {},
   "source": [
    "# Метод релаксации"
   ]
  },
  {
   "cell_type": "code",
   "execution_count": 43,
   "metadata": {},
   "outputs": [],
   "source": [
    "def sor_solver(A, f, omega, convergence_criteria = 1e-8):\n",
    "    PrintSLE(A, f)\n",
    "    \n",
    "    step = 0\n",
    "    initial_guess = np.zeros_like(f)\n",
    "    phi = initial_guess[:]\n",
    "    residual = np.linalg.norm(np.matmul(A, phi) - f) \n",
    "    while residual > convergence_criteria:\n",
    "        if step != 0:\n",
    "            print(\"Iteration {0}: {1}\".format(step, phi))\n",
    "        for i in range(A.shape[0]):\n",
    "            sigma = 0\n",
    "            for j in range(A.shape[1]):\n",
    "                if j != i:\n",
    "                    sigma += A[i, j] * phi[j]\n",
    "            phi[i] = (1 - omega) * phi[i] + (omega / A[i, i]) * (f[i] - sigma)\n",
    "        residual = np.linalg.norm(np.matmul(A, phi) - f)\n",
    "        step += 1\n",
    "    return phi"
   ]
  },
  {
   "cell_type": "markdown",
   "metadata": {},
   "source": [
    "## Примеры"
   ]
  },
  {
   "cell_type": "code",
   "execution_count": 44,
   "metadata": {},
   "outputs": [],
   "source": [
    "omega = 0.5\n",
    "A = np.array([[10.0, -1.0, 2.0, 0.0],\n",
    "              [-1.0, 11.0, -1.0, 3.0],\n",
    "              [2.0, -1.0, 10.0, -1.0],\n",
    "              [0.0, 3.0, -1.0, 8.0]])\n",
    "\n",
    "f = np.array([6.0, 25.0, -11.0, 15.0])"
   ]
  },
  {
   "cell_type": "code",
   "execution_count": 45,
   "metadata": {},
   "outputs": [
    {
     "name": "stdout",
     "output_type": "stream",
     "text": [
      "Метод Якоби\n",
      "[ 10*x1 +  -1*x2 +   2*x3 +   0*x4] = [  6]\n",
      "[ -1*x1 +  11*x2 +  -1*x3 +   3*x4] = [ 25]\n",
      "[  2*x1 +  -1*x2 +  10*x3 +  -1*x4] = [-11]\n",
      "[  0*x1 +   3*x2 +  -1*x3 +   8*x4] = [ 15]\n",
      "Iteration 1: [ 0.6         2.27272727 -1.1         1.875     ]\n",
      "Iteration 2: [ 1.04727273  1.71590909 -0.80522727  0.88522727]\n",
      "Iteration 3: [ 0.93263636  2.05330579 -1.04934091  1.13088068]\n",
      "Iteration 4: [ 1.01519876  1.95369576 -0.96810863  0.97384272]\n",
      "Iteration 5: [ 0.9889913   2.01141473 -1.0102859   1.02135051]\n",
      "Iteration 6: [ 1.00319865  1.99224126 -0.99452174  0.99443374]\n",
      "Iteration 7: [ 0.99812847  2.00230688 -1.00197223  1.00359431]\n",
      "Iteration 8: [ 1.00062513  1.9986703  -0.99903558  0.99888839]\n",
      "Iteration 9: [ 0.99967415  2.00044767 -1.00036916  1.00061919]\n",
      "Iteration 10: [ 1.0001186   1.99976795 -0.99982814  0.99978598]\n",
      "Iteration 11: [ 0.99994242  2.00008477 -1.00006833  1.0001085 ]\n",
      "Iteration 12: [ 1.00002214  1.99995896 -0.99996916  0.99995967]\n",
      "Iteration 13: [ 0.99998973  2.00001582 -1.00001257  1.00001924]\n",
      "Iteration 14: [ 1.00000409  1.99999268 -0.99999444  0.9999925 ]\n",
      "Iteration 15: [ 0.99999816  2.00000292 -1.0000023   1.00000344]\n",
      "Iteration 16: [ 1.00000075  1.99999868 -0.99999899  0.99999862]\n",
      "Iteration 17: [ 0.99999967  2.00000054 -1.00000042  1.00000062]\n",
      "Iteration 18: [ 1.00000014  1.99999976 -0.99999982  0.99999975]\n",
      "Iteration 19: [ 0.99999994  2.0000001  -1.00000008  1.00000011]\n",
      "Iteration 20: [ 1.00000003  1.99999996 -0.99999997  0.99999995]\n",
      "Iteration 21: [ 0.99999999  2.00000002 -1.00000001  1.00000002]\n",
      "Iteration 22: [ 1.          1.99999999 -0.99999999  0.99999999]\n",
      "[ 1.          1.99999999 -0.99999999  0.99999999]\n"
     ]
    }
   ],
   "source": [
    "print(\"Метод Якоби\")\n",
    "print(Jacobi(A, f))"
   ]
  },
  {
   "cell_type": "code",
   "execution_count": 46,
   "metadata": {},
   "outputs": [
    {
     "name": "stdout",
     "output_type": "stream",
     "text": [
      "Метод Гаусса-Зейделя\n",
      "[ 10*x1 +  -1*x2 +   2*x3 +   0*x4] = [  6]\n",
      "[ -1*x1 +  11*x2 +  -1*x3 +   3*x4] = [ 25]\n",
      "[  2*x1 +  -1*x2 +  10*x3 +  -1*x4] = [-11]\n",
      "[  0*x1 +   3*x2 +  -1*x3 +   8*x4] = [ 15]\n",
      "Iteration 1: [0. 0. 0. 0.]\n",
      "Iteration 2: [ 0.6         2.32727273 -0.98727273  0.87886364]\n",
      "Iteration 3: [ 1.03018182  2.03693802 -1.0144562   0.98434122]\n",
      "Iteration 4: [ 1.00658504  2.00355502 -1.00252738  0.99835095]\n",
      "Iteration 5: [ 1.00086098  2.00029825 -1.00030728  0.99984975]\n",
      "Iteration 6: [ 1.00009128  2.00002134 -1.00003115  0.9999881 ]\n",
      "Iteration 7: [ 1.00000836  2.00000117 -1.00000275  0.99999922]\n",
      "Iteration 8: [ 1.00000067  2.00000002 -1.00000021  0.99999996]\n",
      "Iteration 9: [ 1.00000004  1.99999999 -1.00000001  1.        ]\n",
      "Iteration 10: [ 1.  2. -1.  1.]\n",
      "[ 1.  2. -1.  1.]\n"
     ]
    }
   ],
   "source": [
    "print(\"Метод Гаусса-Зейделя\")\n",
    "print(Gauss_Seidel(A, f))"
   ]
  },
  {
   "cell_type": "code",
   "execution_count": 47,
   "metadata": {},
   "outputs": [
    {
     "name": "stdout",
     "output_type": "stream",
     "text": [
      "Метод Релаксации\n",
      "[ 10*x1 +  -1*x2 +   2*x3 +   0*x4] = [  6]\n",
      "[ -1*x1 +  11*x2 +  -1*x3 +   3*x4] = [ 25]\n",
      "[  2*x1 +  -1*x2 +  10*x3 +  -1*x4] = [-11]\n",
      "[  0*x1 +   3*x2 +  -1*x3 +   8*x4] = [ 15]\n",
      "Iteration 1: [ 0.3         1.15       -0.5225      0.68921875]\n",
      "Iteration 2: [ 0.55975     1.61907244 -0.75181044  0.93154514]\n",
      "Iteration 3: [ 0.73600967  1.81815276 -0.86202129  1.0084926 ]\n",
      "Iteration 4: [ 0.8451146   1.90714981 -0.91973999  1.02667196]\n",
      "Iteration 5: [ 0.90988879  1.94949004 -0.95205077  1.02580342]\n",
      "Iteration 6: [ 0.94762397  1.97102515 -0.97094635  1.02015035]\n",
      "Iteration 7: [ 0.96945788  1.98269714 -0.98227659  1.01442717]\n",
      "Iteration 8: [ 0.98209146  1.98937281 -0.98915744  1.00988384]\n",
      "Iteration 9: [ 0.98943011  1.993351   -0.99335999  1.00660361]\n",
      "Iteration 10: [ 0.99371861  1.99579131 -0.99593211  1.00434518]\n",
      "Iteration 11: [ 0.99624208  1.99731722 -0.99750714  1.00283141]\n",
      "Iteration 12: [ 0.99773761  1.99828298 -0.99847161  1.00183317]\n",
      "Iteration 13: [ 0.99863012  1.99889872 -0.99906222  1.00118169]\n",
      "Iteration 14: [ 0.99916622  1.99929295 -0.999424    1.00075942]\n",
      "Iteration 15: [ 0.99949016  1.99954592 -0.99964575  1.00048699]\n",
      "Iteration 16: [ 0.99968695  1.99970843 -0.9997818   1.0003118 ]\n",
      "Iteration 17: [ 0.99980708  1.99981284 -0.99986537  1.00019941]\n",
      "Iteration 18: [ 0.99988072  1.99987993 -0.99991679  1.00012742]\n",
      "Iteration 19: [ 0.99992603  1.99992301 -0.99994848  1.00008136]\n",
      "Iteration 20: [ 0.99995402  1.99995066 -0.99996804  1.00005193]\n",
      "Iteration 21: [ 0.99997134  1.9999684  -0.99998014  1.00003313]\n",
      "Iteration 22: [ 0.99998211  1.99997977 -0.99998763  1.00002113]\n",
      "Iteration 23: [ 0.99998881  1.99998706 -0.99999229  1.00001347]\n",
      "Iteration 24: [ 0.99999298  1.99999172 -0.99999518  1.00000859]\n",
      "Iteration 25: [ 0.9999956   1.99999471 -0.99999699  1.00000548]\n",
      "Iteration 26: [ 0.99999723  1.99999662 -0.99999811  1.00000349]\n",
      "Iteration 27: [ 0.99999826  1.99999784 -0.99999882  1.00000222]\n",
      "Iteration 28: [ 0.9999989   1.99999862 -0.99999926  1.00000142]\n",
      "Iteration 29: [ 0.99999931  1.99999912 -0.99999953  1.0000009 ]\n",
      "Iteration 30: [ 0.99999956  1.99999944 -0.99999971  1.00000058]\n",
      "Iteration 31: [ 0.99999972  1.99999964 -0.99999981  1.00000037]\n",
      "Iteration 32: [ 0.99999983  1.99999977 -0.99999988  1.00000023]\n",
      "Iteration 33: [ 0.99999989  1.99999985 -0.99999993  1.00000015]\n",
      "Iteration 34: [ 0.99999993  1.99999991 -0.99999995  1.00000009]\n",
      "Iteration 35: [ 0.99999996  1.99999994 -0.99999997  1.00000006]\n",
      "Iteration 36: [ 0.99999997  1.99999996 -0.99999998  1.00000004]\n",
      "Iteration 37: [ 0.99999998  1.99999998 -0.99999999  1.00000002]\n",
      "Iteration 38: [ 0.99999999  1.99999998 -0.99999999  1.00000002]\n",
      "Iteration 39: [ 0.99999999  1.99999999 -1.          1.00000001]\n",
      "Iteration 40: [ 1.          1.99999999 -1.          1.00000001]\n",
      "Iteration 41: [ 1.  2. -1.  1.]\n",
      "Iteration 42: [ 1.  2. -1.  1.]\n",
      "Iteration 43: [ 1.  2. -1.  1.]\n",
      "Iteration 44: [ 1.  2. -1.  1.]\n",
      "[ 1.  2. -1.  1.]\n"
     ]
    }
   ],
   "source": [
    "print(\"Метод Релаксации\")\n",
    "print(sor_solver(A, f, omega))"
   ]
  }
 ],
 "metadata": {
  "kernelspec": {
   "display_name": "Python 3",
   "language": "python",
   "name": "python3"
  },
  "language_info": {
   "codemirror_mode": {
    "name": "ipython",
    "version": 3
   },
   "file_extension": ".py",
   "mimetype": "text/x-python",
   "name": "python",
   "nbconvert_exporter": "python",
   "pygments_lexer": "ipython3",
   "version": "3.8.3"
  }
 },
 "nbformat": 4,
 "nbformat_minor": 4
}
