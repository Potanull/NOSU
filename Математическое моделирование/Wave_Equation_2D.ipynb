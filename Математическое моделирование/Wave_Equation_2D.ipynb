{
 "cells": [
  {
   "cell_type": "markdown",
   "metadata": {},
   "source": [
    "### Волновое уравнение в двух измерениях\n",
    "Наша цель - вычислить и визуализировать решения $u(x,y, t)$ волнового уравнения $$u_{tt}=c ^ 2 \\Delta u$$ с $\\Delta u =u_{xx} +u_{yy}$ в квадрате $(x,y)\\in[0,L]\\times[0,L]$ с начальными условиями $u(x,y,0)=f(x,y)$ и $u_t(x,y,0)=g(x,y)$. Наш код позволит нам использовать граничные условия Дирихле, Неймана или периодические. [По ссылке приведен видеоролик о легком дожде, падающем в пруд](https://youtu.be/d1GSHAMpNYo ). Сначала мы загружаем необходимые модули Python."
   ]
  },
  {
   "cell_type": "code",
   "execution_count": null,
   "metadata": {},
   "outputs": [],
   "source": [
    "%matplotlib widget\n",
    "import numpy as np\n",
    "import matplotlib.cm as cm\n",
    "import matplotlib.pyplot as plt\n",
    "import matplotlib.animation as animation\n",
    "import matplotlib.colors as colors\n",
    "from matplotlib.colors import LightSource"
   ]
  },
  {
   "cell_type": "markdown",
   "metadata": {},
   "source": [
    "Далее мы определяем следующие функции:\n",
    "* `discrete_laplacian` обеспечивает центрированную конечно-разностную аппроксимацию оператора Лапласа $\\Delta u =u_{xx}+u_{yy}$;\n",
    "* `leapfrog\" реализует метод leapfrog для разработки решения во времени. Чехарда использует тот факт, что волновое уравнение содержит производные второго порядка по времени;\n",
    "* `define_initial_condition` использует заданные начальные условия для вычисления первых двух итераций решения;\n",
    "* `update_solution` использует метод чехарды, применяемый к производной по времени $u_{tt}$, чтобы обновить решение до следующего временного шага;\n",
    "* `update_graph` анимирует решение."
   ]
  },
  {
   "cell_type": "code",
   "execution_count": null,
   "metadata": {},
   "outputs": [],
   "source": [
    "def discrete_laplacian(u, bdy):\n",
    "    if bdy == 'Periodic':\n",
    "        L = -4*u\n",
    "        L += np.roll(u, (0,-1), (0,1))\n",
    "        L += np.roll(u, (0,+1), (0,1))\n",
    "        L += np.roll(u, (-1,0), (0,1))\n",
    "        L += np.roll(u, (+1,0), (0,1))\n",
    "        return L\n",
    "    elif bdy == 'Dirichlet':\n",
    "        v = np.pad(u, 1, constant_values=0)\n",
    "    elif bdy == 'Neumann':\n",
    "        v = np.pad(u, 1, mode='edge')\n",
    "    L = -4*v\n",
    "    L += np.roll(v, (0,-1), (0,1))\n",
    "    L += np.roll(v, (0,+1), (0,1))\n",
    "    L += np.roll(v, (-1,0), (0,1))\n",
    "    L += np.roll(v, (+1,0), (0,1))\n",
    "    L = L[1:-1,1:-1]\n",
    "    return L\n",
    "\n",
    "def leapfrog(u0, um, cfl, bdy):\n",
    "    up = 2*u0 - um + cfl**2*discrete_laplacian(u0, bdy)\n",
    "    return up, u0\n",
    "\n",
    "def define_initial_condition(f, g, dt, bdy):\n",
    "    u0 = f + 0.5*cfl**2*discrete_laplacian(f, bdy) + dt*g\n",
    "    return u0, f\n",
    "\n",
    "def update_solution(f, g, cfl, dt, bdy, Nframes, Nskip):\n",
    "    n = 0\n",
    "    u0, um = define_initial_condition(f, g, dt, bdy)\n",
    "    while n<Nframes:\n",
    "        n += 1\n",
    "        for k in range(Nskip):\n",
    "            u0, um = leapfrog(u0, um, cfl, bdy)\n",
    "        yield u0\n",
    "\n",
    "def update_graph(u, ls, imu):\n",
    "    imu.set_array(ls.hillshade(u))"
   ]
  },
  {
   "cell_type": "markdown",
   "metadata": {},
   "source": [
    "В следующей ячейке мы определяем константу скорости $c>0$, задаем начальные условия $u(x,0)=f(x)$ и $u_t(x,0)=g(x)$ и запускаем анимацию решения."
   ]
  },
  {
   "cell_type": "code",
   "execution_count": 5,
   "metadata": {},
   "outputs": [
    {
     "data": {
      "application/vnd.jupyter.widget-view+json": {
       "model_id": "eb53dfec52514813803af80c8f505ca8",
       "version_major": 2,
       "version_minor": 0
      },
      "image/png": "[encoded data removed]",
      "text/html": [
       "\n",
       "            <div style=\"display: inline-block;\">\n",
       "                <div class=\"jupyter-widgets widget-label\" style=\"text-align: center;\">\n",
       "                    Figure\n",
       "                </div>\n",
       "                <img src='data:image/png;base64,iVBORw0KGgoAAAANSUhEUgAAAfQAAAH0CAYAAADL1t+KAAAAOXRFWHRTb2Z0d2FyZQBNYXRwbG90bGliIHZlcnNpb24zLjUuMiwgaHR0cHM6Ly9tYXRwbG90bGliLm9yZy8qNh9FAAAACXBIWXMAAA9hAAAPYQGoP6dpAAAutklEQVR4nO3df4zUdWL/8df83tlldmGF/XXAdkvRVlFyJxYxVpEWIkkNyvXCnckFeq3RAiYELl7RXMT+wXo2EpvQ0vTaUE1r8Y9Ta6Kn0ihLLeUCVCPhjMVzkSVlXUHY38yv/Xz/4Pv++JnPzswuzM7s7nufj2SyO78/N87x3Pf78yvgOI4jAAAwrQUnewEAAEDpCDoAABYg6AAAWICgAwBgAYIOAIAFCDoAABYg6AAAWICgAwBgAYIOAIAFCDoAABYg6AAAWICgAwBgAYIOAIAFCDoAABYg6AAAWICgAwBgAYIOAIAFSgr6vn37dNttt6m2tla1tbVasWKFfvnLX7r3O46jXbt2qaWlRfF4XCtXrtSpU6dKXmgAAJCrpKDPnz9fzz77rI4fP67jx49r1apVWrdunRvt5557Tnv27NHevXt17NgxNTU1afXq1erv75+QhQcAAFcFHMdxJvIF6+vr9dd//df60Y9+pJaWFm3btk0/+clPJEnJZFKNjY362c9+pkcffXQi3xYAgBltwtahZ7NZHThwQIODg1qxYoU6OzvV3d2tNWvWuI+JxWK69957deTIkYl6WwAAIClc6gucPHlSK1as0JUrVzRr1iy99tpruvnmm91oNzY25jy+sbFRX3zxRcHXSyaTSiaT7vWRkRF9/fXXuuGGGxQIBEpdXAAAJoXjOOrv71dLS4uCwYnfJr3koN9000366KOPdPnyZf3iF7/Qxo0b1dHR4d7vj7DjOEXD3N7ermeeeabUxQIAYErq6urS/PnzJ/x1J3wd+h/90R9p0aJF+slPfqJFixbpf/7nf/Ttb3/bvX/dunWaPXu2XnzxxbzP94/Qe3t7tXDhQm3dulWxWGwiFxUAgIpJJpPau3evLl++rLq6ugl//ZJH6H6O4yiZTKqtrU1NTU06ePCgG/RUKqWOjg797Gc/K/j8WCyWN9yFbgcAYDop1+rjkoL+5JNPau3atVqwYIH6+/t14MABHTp0SG+//bYCgYC2bdum3bt3a/HixVq8eLF2796t6upqPfzwwxO1/AAAQCUG/csvv9QPf/hDnT9/XnV1dbrtttv09ttva/Xq1ZKkJ554QsPDw9q8ebMuXbqk5cuX691331UikZiQhQcAAFdN+Dr0idbX16e6ujrt2LGDKXcAwLSVTCb1/PPPq7e3V7W1tRP++hzLHQAACxB0AAAsQNABALAAQQcAwAIEHQAACxB0AAAsQNABALAAQQcAwAIEHQAACxB0AAAsQNABALAAQQcAwAIEHQAACxB0AAAsQNABALAAQQcAwAIEHQAACxB0AAAsQNABALAAQQcAwAIEHQAACxB0AAAsQNABALAAQQcAwAIEHQAACxB0AAAsQNABALAAQQcAwAIEHQAACxB0AAAsQNABALAAQQcAwAIEHQAACxB0AAAsQNABALAAQQcAwAIEHQAACxB0AAAsQNABALAAQQcAwAIEHQAACxB0AAAsQNABALAAQQcAwAIEHQAACxB0AAAsQNABALAAQQcAwAIEHQAACxB0AAAsQNABALAAQQcAwAIEHQAACxB0AAAsQNABALAAQQcAwAIEHQAACxB0AAAsQNABALAAQQcAwAIEHQAACxB0AAAsUFLQ29vbdccddyiRSKihoUEPPvigPv3005zHbNq0SYFAIOdy5513lrTQAAAgV0lB7+jo0JYtW3T06FEdPHhQmUxGa9as0eDgYM7j7r//fp0/f969vPXWWyUtNAAAyBUu5clvv/12zvX9+/eroaFBJ06c0D333OPeHovF1NTUVMpbAQCAIiZ0HXpvb68kqb6+Puf2Q4cOqaGhQTfeeKMeeeQR9fT0TOTbAgAw45U0QvdyHEfbt2/X3XffrSVLlri3r127Vt/73vfU2tqqzs5O/fSnP9WqVat04sQJxWKxUa+TTCaVTCbd6319fRO1iAAAWGvCgr5161Z9/PHH+uCDD3Ju37Bhg/v7kiVLtGzZMrW2turNN9/U+vXrR71Oe3u7nnnmmYlaLAAAZoQJmXJ//PHH9cYbb+j999/X/Pnziz62ublZra2tOn36dN77d+7cqd7eXvfS1dU1EYsIAIDVShqhO46jxx9/XK+99poOHTqktra2MZ9z8eJFdXV1qbm5Oe/9sVgs71Q8AAAorKQR+pYtW/Qv//Ivevnll5VIJNTd3a3u7m4NDw9LkgYGBvTjH/9Y//3f/60zZ87o0KFDeuCBBzR37lw99NBDE/I/AAAAlDhC37dvnyRp5cqVObfv379fmzZtUigU0smTJ/XSSy/p8uXLam5u1n333adXXnlFiUSilLcGAAAeJU+5FxOPx/XOO++U8hYAAGAcOJY7AAAWIOgAAFiAoAMAYAGCDgCABQg6AAAWIOgAAFiAoAMAYAGCDgCABQg6AAAWIOgAAFiAoAMAYAGCDgCABQg6AAAWIOgAAFiAoAMAYAGCDgCABQg6AAAWIOgAAFiAoAMAYAGCDgCABQg6AAAWIOgAAFiAoAMAYAGCDgCABQg6AAAWIOgAAFiAoAMAYAGCDgCABQg6AAAWIOgAAFiAoAMAYAGCDgCABQg6AAAWIOgAAFiAoAMAYAGCDgCABQg6AAAWIOgAAFiAoAMAYAGCDgCABQg6AAAWIOgAAFiAoAMAYAGCDgCABQg6AAAWIOgAAFiAoAMAYAGCDgCABQg6AAAWIOgAAFiAoAMAYAGCDgCABQg6AAAWIOgAAFiAoAMAYAGCDgCABQg6AAAWIOgAAFiAoAMAYAGCDgCABQg6AAAWIOgAAFigpKC3t7frjjvuUCKRUENDgx588EF9+umnOY9xHEe7du1SS0uL4vG4Vq5cqVOnTpW00AAAIFdJQe/o6NCWLVt09OhRHTx4UJlMRmvWrNHg4KD7mOeee0579uzR3r17dezYMTU1NWn16tXq7+8veeEBAMBV4VKe/Pbbb+dc379/vxoaGnTixAndc889chxHL7zwgp566imtX79ekvTiiy+qsbFRL7/8sh599NFS3h4AAPx/E7oOvbe3V5JUX18vSers7FR3d7fWrFnjPiYWi+nee+/VkSNH8r5GMplUX19fzgUAABQ3YUF3HEfbt2/X3XffrSVLlkiSuru7JUmNjY05j21sbHTv82tvb1ddXZ17WbBgwUQtIgAA1pqwoG/dulUff/yx/u3f/m3UfYFAIOe64zijbjN27typ3t5e99LV1TVRiwhgGhoZGSl6AXBVSevQjccff1xvvPGGDh8+rPnz57u3NzU1Sbo6Um9ubnZv7+npGTVqN2KxmGKx2EQsFoBp6Foj7X18MMieuJi5Svr2O46jrVu36tVXX9V7772ntra2nPvb2trU1NSkgwcPurelUil1dHTorrvuKuWtAVhmIkbcjNoxk5U0Qt+yZYtefvll/fu//7sSiYS7Xryurk7xeFyBQEDbtm3T7t27tXjxYi1evFi7d+9WdXW1Hn744Qn5HwBgeiPAwMQoKej79u2TJK1cuTLn9v3792vTpk2SpCeeeELDw8PavHmzLl26pOXLl+vdd99VIpEo5a0BTHPXEnKm0oGxlRR0x3HGfEwgENCuXbu0a9euUt4KgEXGE/NCEfduUDuef4OAmWJCNooDgPEaK+bekOfbG8bcVmhvGSKPmYqgA6iYYjHPF3JvsP3xDgQCo+Ltjzxxx0xC0AFURKGY+0M+nph7b88XbXObdzQP2I6gAyi7sWLujbg/6IViLuWOyPNNwXvDTtRhO4IOoKzGE3N/yAvF3B9lb6jz/V7ofsBGBB1A2VxLzIuFXPom5tcaZaKOmYKgA6ioYjEvFHJzMdcLKTY9D9iOoAMoi3yj82uJuTfkIyMj7k9zn3kd87reaXZgJiLoACZcsd3Txoq5P+TZbNY9Rrt3pO6dnjdB9/4OzDQEHUBFeKNbLOYm3tls1r0UCroJuPdiRun5ws76c9iMoAMoO/9hXIvFPJvNKpPJ5Pw0F2/M/SEPhUJyHMe9PjIykjPFT8xhO4IOYEIVmm4fa8M3E/N0Oq1MJuNe0un0qNOimtF3KBRSKBRyX9/8zHcEOcB2BB1AWY01OveuL/dGPJVKuSN0f8z9+5gX2greO0r33lZs+cwy+l8LmOoIOoCyG8/o3BvzZDLpXjcBNtPq5qf53b++3L+x3FjyRd+73EQd0wVBBzBhxjv69Y/OvVPs3ot5vVAopEgkomg0qkgkolAoNGoU7d9IzjsVP9Y+7EQdNiDoACqi0O5p3q3azQjdTLOb9eSxWEw1NTWqrq5WVVWVwuGwHMdROp12L+bx3pG8d990/x8b/t3fikUdmA4IOoCyKnTQGPPTu1uaGZWbCIdCIVVXV2vWrFmqr69XXV2damtrFQqFlE6nNTAwoIGBAQ0NDSmVSmlkZCRnOt4wsfYfmMb8PtZ+64zSMR0QdABlMdZot9gBZCS5I/NZs2Zp3rx5amlpUVNTk2bNmiVJSiaTunDhgiS5G89JuVPv3vXp2WzWvd380eBdFv/sAQenwXRD0AFMinyHdpW+2ZgtHA4rHo+rtrZWDQ0NWrBggebNm6d4PK6RkRH19fUpmUzq0qVL7pS6ibZ36j3flvDeZTDvKTHtjumNoAOouGKRNTGORqPuCL2+vl6zZ89WIpFQJBJRMpmU4zgaHh7W0NCQhoaGdOXKFXdkbTacM0E3U+ZmPbt3GbzLxKgc0xlBB1BR+dZF+0fngUBA4XBYsVhMVVVVqq6uViQSkSSlUildunRJ586d029+8xt9+eWX6u/vVzqdViQScUfY/hF6sWO8sx4dNiDoACaF9+xp3v3U/fuZS1fXkV+5ckWSNDAwoM8//1yffPKJurq63JhHo1HV1NQoFotJkrv7mnkv77HkvcvAqBy2IOgAJtx410MHg8GcjdXC4bC7pboZEadSKfX19SkcvvrPVXd3t37961/rf//3f3X27FkNDw8rFotpzpw5ikQiOSdnMbu3eafa/Yg6bEHQAUwY765h+fgP2SrlbpXuP1NaNpvV8PCwLly4oKGhISWTSZ0/f15nz55VZ2enenp6lM1mNWvWLHfr92AwqEgkonA47C4PZ13DTEDQAVREvphLyom5f6vzbDbrbuzW19en4eFhffXVV7p06ZKGhoaUyWRy1rfHYjH3aHIm6IW2bC8WdUbsmI4IOoAJlW+6vdC0dqHjrnsjb44cl81mNTQ0pMHBQWWzWcViMSUSCYXDYc2dO1dz5sxRIpFw16ObKXpz2lX/pdhyAdMRQQdQMfkC6j8QjH/a3RxNzoQ9EAiopqZG8+bNUyaTUVVVlWbPnu0eSa6mpsbd2t3s357vwDVMu8M2BB1AWXmn2vNNuZuRuXddtznsqzfq5gQtNTU1CgaDqqmpkSR3X/Xa2lrV1tYqHo+7u7iZgJuLf4QO2ISgA5h03t3LvGdM8+565j3jWnV1tbsrWiwWUzweVzweV1VVlaLRqCS50/Tm5C1mhF7oYDZjnW6VPwIw1RF0AGXnH6V7mdu9MfXG3OyTnu90qaFQSOFwWNFoVNFo1D1l6sjIiNLptFKplHucdzPtni/mxa4D0wVBB1BRY410vUH1n+PcG3nzu9ma3fxBYEblqVQqJ+reM7mZPyyIN2xC0AFURKlblOc7ipx35G6m2LPZ7KiY+6fbC/3RQOAxnRF0ABWTL+qFju3uPcKb+em9+J9rzqeezWaVyWRyRube0blxLSN01p9jOiDoACpqrDj6z45m+HdB84fd3G4Cbkbr/ph7t6RndA6bEHQAU4I33t7DwErfnFzFnK/cH2CzsZt34zfvfueFNoQba8t2897AdEDQAUw6//HfzXXvyVtMzL0xlr6ZnvcfQCbfPuf5pu29rwVMZwQdwJTiDbCJufTNiV/yrYP3B9x/vPZ80+zjmWpndI7phKADmNJMxLPZ7Kj7/OHOd+KV6405MN0QdACTznvaVe/hYYuF2sh3NrV8u6V5fx9PzBmdY7oh6ACmhHznUs8Xd6NQcP3r2P3rzBmZw1YEHcCU4V9Pnu+Qsf714vnki7rZmn08MWd0jumIoGPG8Y8CvcbahQnll2/63R/4YvJtvU7MMRMQdFivWMDHeiyBnxz5Tqk6Ht7Hev/bcUQ4zAQEHda6lpCP9RqEvXy8sS10rnRpfHH3/3e6lj8GiDmmO4IO60xEyPO9JlEvv2LHeR/v5389G7wRc9iAoMMq1xLz8QSiHH8cIFex9eKV2BqdmMMWBB1WGE94x7tO9XpGhShNqadWvd73BGxC0DHtjRVz/xbO/nB493XOd51/+CujUlHnvydsRdAxrY1nFzT/gUXyRSPf+bXN9UL3YeKNZx/zUl8bsBVBx7Q1Vsz9x+4uFnRp9EFM/KN0/20on4kMO//NMFMQdExL4425P+z5eOOR78hk3scR9coqdB7za3kOMFMQdFglGAzmDbo0elq92Ak/DG/AC43eUTl87kBhBB3TTqHRuTfmhUbm+c6dbW4fa0oeAKYygg4rjDXNbkJuLtlsNifshc6VTdwBTBcEHdNKvtF5oVG5ibE34ul0Wtls1r14p9PNCD8YDCoUCo2avme6F8BURtAx7RUbWXtD7r1kMhl3hG4eHw6HFQqFFA6H5TiOQqGQ+9OLsAOYigg6po1Co3NJBUfm2WxWqVRKyWTS/WlG6SbMZkQ+MjKicPib/0uY1yp0HPdCJ24pdrIRACgXgo5pq9AUu3Q1pN6YX7lyRVeuXFEqlVImk3FH5uY1vBvJ5bv4ef+4KHbiFqbqAVQKQce054+6ibmZajdBN6Nzx3HcUXkkEnGn2kOhUM66dPO7uV0qfCQ5zsYGYLIRdEwLhXZVyzcyN1u0p9PpnOl2E/NQKKSqqirV1NQoHo8rEokoEAjkbChnQm4u5rUL/fRG3X9QGkbpACqBoGNa8h4wRspdbz0yMqJMJuNezEZwjuMoHA6rurpa9fX1mjt3rurr6xWLxZRKpdTf36+BgQENDw+7jzVbu5tgm4tR7MhyAFBJJc0RHj58WA888IBaWloUCAT0+uuv59y/adOmUdOhd955ZylvCeTId3hWE10TcxPgcDiseDyuuXPnqq2tTbfffruWLVum73znO7r11lv127/925ozZ46qqqrckIdCIUWjUXdq3v+HhHlPAJhsJY3QBwcHtXTpUv3pn/6pvvvd7+Z9zP3336/9+/e716PRaClvCYziXb/tnXI3FzOFHolEVFdXp+bmZt1yyy1qa2vTnDlzJEmXLl1SOp3WV199JembDd2CwaDC4bC7Pt28fjAYVDabdZfBRL3QunSm3QGUW0lBX7t2rdauXVv0MbFYTE1NTaW8DTBu3qB7DxoTCoUUi8WUSCTU3NyspqYmzZ07V1VVVUomk8pmsxoaGlJ/f78GBweVTqdVVVWVM1o30+7ZbHbURnJMtwOYbGXfLPfQoUNqaGjQjTfeqEceeUQ9PT3lfkvMMP6N1LzruE3Mw+GwYrGYuzFcLBZTIBBQMplUd3e3Tp48qWPHjuk3v/mNenp61NfXp1QqJenqVH0kElEkEnHjXmgZAGCylHWjuLVr1+p73/ueWltb1dnZqZ/+9KdatWqVTpw4oVgslvc5yWRSyWTSvd7X11fORcQ0VCyo3rB6dzvz/jSj8a+//lr9/f361a9+pf/6r//SmTNnNDAwoKqqKjU0NGjWrFnulLs54Iz/ULD5zsQGAJOhrEHfsGGD+/uSJUu0bNkytba26s0339T69evzPqe9vV3PPPNMORcLM4CJuVn/bWKeTqf19ddf6/z587p48aLOnDmjI0eO6IMPPtD58+cVDofV0NCg2tpa93CwkUjE/UOg0P7oADDZKrrbWnNzs1pbW3X69OmCj9m5c6e2b9/uXu/r69OCBQsqsXiYwoLBYN590fOdn9x7ghWzAZsZVafTaV28eFHJZFIjIyM6e/aszpw5o6+++kr9/f2Kx+NyHEexWMy9mP3U0+n0qPcGgKmiokG/ePGiurq61NzcXPAx5h9RYLzyHcjFP91urmcyGQ0MDGhwcFDDw8Pq6enR4OCgotGoamtrlUgk1NTUpNmzZ6u2tlbV1dWKRCLuAWf8G9yxURyAqaKkoA8MDOizzz5zr3d2duqjjz5SfX296uvrtWvXLn33u99Vc3Ozzpw5oyeffFJz587VQw89VPKCA17+qHsP2Wru865Dz2QyunLlirLZrBKJhL71rW/JcRzV19dr/vz5ampq0pw5cxSPxxUKhdyzs5nzqHtP7mIQdQCTqaSgHz9+XPfdd5973UyVb9y4Ufv27dPJkyf10ksv6fLly2pubtZ9992nV155RYlEorSlxozkn3b3bwDnP7e5N/Jmfbh3+j2bzaq2tlahUEjz5s1TKBRSbW2tbrjhBs2dO1d1dXWKRqPuAWq8p101o/R8f0gQdgCToaSgr1y5suh6xHfeeaeUlwdGKXQClHzr0r3HeTfHZDdRDwaDikajqqmpcQ8uE4lEVFNTo0QioVmzZikSiWhkZESpVMq9eA8j6/0DgogDmGwcyx3TXqGYe+PvPYua2Z/cHDTG3BeNRhWLxRSNRt3zoyeTSQ0PD7tna8tkMjnT7YWOJ59vGQGgnAg6prV8Mffzj6DN+nTvwWLMvubmjwAzxT48PKyhoSENDw+7t3k3ivO+PtPtACYTQce0l++ALt7g+o/vns1m3Y3mzO/e47Kb06iagxyZ0XkqlRo1OvdeAGAyEXRYwRv1fKN1E3T/CVXMKVbN6NpxHGWzWXc0btab+9ed+2PuHZ37ZwyYbgdQCQQd1vCH038gGjOdbuKeyWRy9lM395n15Gb3Nu96c3/Mi52XHQAqiaDDeib0Zh9yE2FzKFdvhP3nU/funuaNuXf3N3/UGZ0DmAwEHTOGd126d3rcf3++S75RudlqPt9rAUClEXTMKPnOypbv9nxbsfujni/mjM4BTBaCDmuZI8v5jyJXLN75DudqYl1omp0zsAGYCgg6rOaNupS737r/HOb+Q8Wan/7fxzPNTtwBVBpBh/X8Uffyj969t/t/Ftuinal2AJONoMM6+UJrdlkzu7IVCnm+1xhvyPNdB4BKIeiwmj+++U7u4t1f3X9/sX3MiTmAqYSgY8YotL47FApd03MLHYkOACYTQYd18h3b/XqMNSIvdBsATAaCDisVWz9+ra9xvfcDQCWNXqEIWKQc0TVHjwOAqYQROqznP+pbqa8BAFMRQceMku9IcON5HABMdQQdMxrhBmAL1qEDAGABgg4AgAUIOgAAFiDoAABYgKADAGABgg4AgAUIOgAAFiDoAABYgKADAGABgg4AgAUIOgAAFiDoAABYgKADAGABgg4AgAUIOgAAFiDoAABYgKADAGABgg4AgAUIOgAAFiDoAABYgKADAGABgg4AgAUIOgAAFiDoAABYgKADAGABgg4AgAUIOgAAFiDoAABYgKADAGABgg4AgAUIOgAAFiDoAABYgKADAGABgg4AgAUIOgAAFiDoAABYgKADAGABgg4AgAUIOgAAFiDoAABYgKADAGABgg4AgAVKCvrhw4f1wAMPqKWlRYFAQK+//nrO/Y7jaNeuXWppaVE8HtfKlSt16tSpUt4SAADkUVLQBwcHtXTpUu3duzfv/c8995z27NmjvXv36tixY2pqatLq1avV399fytsCAACfcClPXrt2rdauXZv3Psdx9MILL+ipp57S+vXrJUkvvviiGhsb9fLLL+vRRx8t5a0BAIBH2dahd3Z2qru7W2vWrHFvi8Viuvfee3XkyJFyvS0AADNSSSP0Yrq7uyVJjY2NObc3Njbqiy++KPi8ZDKpZDLpXu/r6yvPAgIAYJGyb+UeCARyrjuOM+o2r/b2dtXV1bmXBQsWlHsRAQCY9soW9KamJknfjNSNnp6eUaN2r507d6q3t9e9dHV1lWsRAQCwRtmC3tbWpqamJh08eNC9LZVKqaOjQ3fddVfB58ViMdXW1uZcAABAcSWtQx8YGNBnn33mXu/s7NRHH32k+vp6LVy4UNu2bdPu3bu1ePFiLV68WLt371Z1dbUefvjhkhccAAB8o6SgHz9+XPfdd597ffv27ZKkjRs36p//+Z/1xBNPaHh4WJs3b9alS5e0fPlyvfvuu0okEqUtNQAAyBFwHMeZ7IUopq+vT3V1ddqxY4disdhkLw4AANclmUzq+eefV29vb1lWJ3MsdwAALEDQAQCwAEEHAMACBB0AAAsQdAAALEDQAQCwAEEHAMACBB0AAAsQdAAALEDQAQCwAEEHAMACBB0AAAsQdAAALEDQAQCwAEEHAMACBB0AAAsQdAAALEDQAQCwAEEHAMACBB0AAAsQdAAALEDQAQCwAEEHAMACBB0AAAsQdAAALEDQAQCwAEEHAMACBB0AAAsQdAAALEDQAQCwQHiyFwAAbBEIBK7p8Y7jlGlJMBMRdAAowbVGPN9zCTsmAkEHgOtQSsgLvRZhRylYhw4A12giY16J18XMwAgdAK7BeKM7ntF2vtcKBAKM1HFdCDoAjMN4Qm5CPDIyMuo2//ODwWBOuBmdo1QEHQDGMFZsHcdxI+44Tt4Rtj/s5vHBYDDnfuB6EXQAuE7eEbkJeaGgezd88/6B4A87cL0IOgAUUWh0bkbl/pD7Y54v5N7Rurl9ZGSEqKMkBB0AChhPzL1R9z/XPL/Y63ijDpSCoAPANTAR9wbd3G4iHgwGFQgEFAqFRoXa+0eAH6N0lIKgA0Ae+UbM/hG5N8wm4MFgUJFIxP3dO81unpPNZuU4jrLZbM7rE3OUgqADwDXIN8IOBoMKhUKKRCKKRCKKRqMKh8PuCN0b8mw2q3Q6rWw26647ByYCQQcAn/GMzs3FxDwajSoWi6mqqkqxWMwNuiRls1mNjIwok8kolUopEAgolUq5r1tsf3R2Z8N4EXQAGCf/luxmfbmJeXV1teLxuDtC906rm3XsoVDIXVc+MjIy5pHhOHIcxougA8AYCm3NbtaXRyIRxeNx9xIOh5XNZpVKpXTlyhWl0+mcafqxAs3JWnA9CDoAeIx39zEzOg+Hw+5Ue1VVlcLhsNLptPr7+9Xb26v+/n5lMhl3JB+JRNzDvpqpeDOKN1P03vfw7toGFEPQAWAc8q3rDofDCofD7ig9GAwqnU7r0qVL+vLLL/Xll1+qr69PIyMjqqmpUV1dnWpqahSNRiXJ3UjOux96OBx2X9/73sBYCDoAFOHd19wwo3MzQg+Hw+468YGBAV28eFHnzp3TZ599pgsXLqi6ulqtra1KJBLurmyZTEaZTMYdnZt92Mc6yAz7qqMQgg4A18h7ABkTaMdxlEqlNDAwoK+//lr/93//p3PnzmlgYED19fWKx+OaO3euZs+erUwmo4GBAaVSKWUyGUlyX8sEu9jW7kQd+RB0AJgAIyMj7kZww8PDSqVSCoVCisfjamho0MKFC3XzzTcrkUjowoULSqfTGhwcdIMeCoUUCoUKTq+zHh1jIegAcA28o3Pp6sg5k8koEAi4B4wJBoO64YYbFIvFNGvWLC1atEh33323brrpJnf6vqenx32u9wQt/vci4hgvgg4A4+QPrPcIcJLco79VV1eroaFBv/Vbv6UFCxbo29/+thYvXqza2lr19vYqEom4B5oxI3RvzP0ndiHqGA+CDgDXwITW7Fdudkkzu6EFg0HF43FVV1dr3rx5uvnmm7Vw4UIlEgmNjIxoaGhIly5d0uDgoK5cueI+3//6Y2E9OvwIOgB45NvK3GysZu73PtYcm92cgU2Se3KWcDjsbgAnScPDwzp37py6urrU29urZDLp/hHg38iu0GwAUAhBB4Br4I29OXRrJpMZdTrVbDargYEBdXV1aXBwUJFIRAMDA+ru7lZ3d7f6+vqUTqfdY8Gbi38L93znWpc4MxtGI+gAUIR3pJxvfbYJuDfoZsSeTqd15coVffXVV3IcR8PDwxocHHR3WZPkjuTNyVzy7bIGjAdBBwCfYtPu/hG6dzreeyhXcxkaGnI3gEun0+6W8NLVo8KZE7tEIhH3ADXmD4dCo3MgH4IOAOPkjbe5Ln2zXt0bYRN2E3AzLW/+CDAxr6qqUjQaVTQadc+f7n8t1p9jPAg6AORRaGRcbN21d1cz/8U7nW5O1OK9mPvNexcbnbP+HPkQdAAogXcK3uy+5r3PjOq96+HNenNzUhcz1S6NHpkzOsd4EXQAuE7emHvPlmZ2RQuFQjnnUfef1MWMyr0jbv+514k5xqvs8za7du0aNfXU1NRU7rcFgIrxT7WbrdbNBm9VVVWKx+PuOdPNRnD+aXZvyJlux7WqyAj9lltu0X/8x3+410OhUCXeFgAqyhv2se7Pt6+5P+j+0TkxRzEVCXo4HGZUDsA6Zhrd/9Mo9Lt5rvnJenNMhIr8uXf69Gm1tLSora1N3//+9/X5558XfGwymVRfX1/OBQCmKm+YzU//bd7b/dH2XwrFnNE5xlL2b8jy5cv10ksv6Z133tHPf/5zdXd366677tLFixfzPr69vV11dXXuZcGCBeVeRAAoSaFYF4p2sZATc1yvgFPhwxANDg5q0aJFeuKJJ7R9+/ZR9yeTSSWTSfd6X1+fFixYoB07digWi1VyUQHguvin1/3ry/2/F5teJ+b2SCaTev7559Xb26va2toJf/2K77ZWU1OjW2+9VadPn857fywWI9wApjX/OKnQuGms9eTEHNei4t+WZDKpTz75RM3NzZV+awAoq/FOrxeaWjf8+6YD41H2b8yPf/xjdXR0qLOzU7/61a/0J3/yJ+rr69PGjRvL/dYAUFETEWFCjutV9in3c+fO6Qc/+IEuXLigefPm6c4779TRo0fV2tpa7rcGgIozQb6W3c6IOCZC2YN+4MCBcr8FAEw5RBqVxjcOAAALEHQAACxA0AEAsABBBwDAAgQdAAALEHQAACxA0AEAsABBBwDAAgQdAAALEHQAACxA0AEAsABBBwDAAgQdAAALEHQAACxA0AEAsABBBwDAAgQdAAALEHQAACxA0AEAsABBBwDAAgQdAAALEHQAACxA0AEAsABBBwDAAgQdAAALEHQAACxA0AEAsABBBwDAAgQdAAALEHQAACxA0AEAsABBBwDAAgQdAAALEHQAACxA0AEAsABBBwDAAgQdAAALEHQAACxA0AEAsABBBwDAAgQdAAALEHQAACxA0AEAsABBBwDAAgQdAAALEHQAACxA0AEAsABBBwDAAgQdAAALEHQAACxA0AEAsABBBwDAAgQdAAALEHQAACxA0AEAsABBBwDAAgQdAAALEHQAACxA0AEAsABBBwDAAgQdAAALVCzof/d3f6e2tjZVVVXp9ttv13/+539W6q0BALBeRYL+yiuvaNu2bXrqqaf04Ycf6g/+4A+0du1anT17thJvDwCA9SoS9D179ujP/uzP9Od//uf6vd/7Pb3wwgtasGCB9u3bV4m3BwDAemUPeiqV0okTJ7RmzZqc29esWaMjR46U++0BAJgRwuV+gwsXLiibzaqxsTHn9sbGRnV3d496fDKZVDKZdK/39va6twMAMF2ZjjmOU5bXL3vQjUAgkHPdcZxRt0lSe3u7nnnmmVG37927t2zLBgBApVy8eFF1dXUT/rplD/rcuXMVCoVGjcZ7enpGjdolaefOndq+fbt7/fLly2ptbdXZs2fL8gHYoK+vTwsWLFBXV5dqa2sne3GmJD6j4vh8xsZnNDY+o+J6e3u1cOFC1dfXl+X1yx70aDSq22+/XQcPHtRDDz3k3n7w4EGtW7du1ONjsZhisdio2+vq6viCjKG2tpbPaAx8RsXx+YyNz2hsfEbFBYPl2XytIlPu27dv1w9/+EMtW7ZMK1as0D/8wz/o7Nmzeuyxxyrx9gAAWK8iQd+wYYMuXryov/qrv9L58+e1ZMkSvfXWW2ptba3E2wMAYL2KbRS3efNmbd68+ZqfF4vF9PTTT+edhsdVfEZj4zMqjs9nbHxGY+MzKq7cn0/AKdf28wAAoGI4OQsAABYg6AAAWICgAwBgAYIOAIAFpnzQOY96Ybt27VIgEMi5NDU1TfZiTZrDhw/rgQceUEtLiwKBgF5//fWc+x3H0a5du9TS0qJ4PK6VK1fq1KlTk7Owk2Ssz2jTpk2jvlN33nnn5CzsJGhvb9cdd9yhRCKhhoYGPfjgg/r0009zHjPTv0fj+Yxm+vdo3759uu2229wD7KxYsUK//OUv3fvL9R2a0kHnPOpju+WWW3T+/Hn3cvLkyclepEkzODiopUuXFjzu/3PPPac9e/Zo7969OnbsmJqamrR69Wr19/dXeEknz1ifkSTdf//9Od+pt956q4JLOLk6Ojq0ZcsWHT16VAcPHlQmk9GaNWs0ODjoPmamf4/G8xlJM/t7NH/+fD377LM6fvy4jh8/rlWrVmndunVutMv2HXKmsN///d93HnvssZzbfvd3f9f5y7/8y0laoqnl6aefdpYuXTrZizElSXJee+019/rIyIjT1NTkPPvss+5tV65ccerq6py///u/n4QlnHz+z8hxHGfjxo3OunXrJmV5pqKenh5HktPR0eE4Dt+jfPyfkePwPcpnzpw5zj/+4z+W9Ts0ZUfonEd9fE6fPq2Wlha1tbXp+9//vj7//PPJXqQpqbOzU93d3Tnfp1gspnvvvZfvk8+hQ4fU0NCgG2+8UY888oh6enome5EmjTl9szmZBt+j0fyfkcH36KpsNqsDBw5ocHBQK1asKOt3aMoG/VrPoz4TLV++XC+99JLeeecd/fznP1d3d7fuuusuXbx4cbIXbcox3xm+T8WtXbtW//qv/6r33ntPzz//vI4dO6ZVq1a553GeSRzH0fbt23X33XdryZIlkvge+eX7jCS+R5J08uRJzZo1S7FYTI899phee+013XzzzWX9DlXs0K/Xa7znUZ+J1q5d6/5+6623asWKFVq0aJFefPHFnFPQ4ht8n4rbsGGD+/uSJUu0bNkytba26s0339T69esncckqb+vWrfr444/1wQcfjLqP79FVhT4jvkfSTTfdpI8++kiXL1/WL37xC23cuFEdHR3u/eX4Dk3ZEfq1nkcdUk1NjW699VadPn16shdlyjFb//N9ujbNzc1qbW2dcd+pxx9/XG+88Ybef/99zZ8/372d79E3Cn1G+czE71E0GtXv/M7vaNmyZWpvb9fSpUv1N3/zN2X9Dk3ZoHvPo+518OBB3XXXXZO0VFNbMpnUJ598oubm5slelCmnra1NTU1NOd+nVCqljo4Ovk9FXLx4UV1dXTPmO+U4jrZu3apXX31V7733ntra2nLu53s09meUz0z7HuXjOI6SyWR5v0MlbVJXZgcOHHAikYjzT//0T86vf/1rZ9u2bU5NTY1z5syZyV60KWHHjh3OoUOHnM8//9w5evSo88d//MdOIpGYsZ9Pf3+/8+GHHzoffvihI8nZs2eP8+GHHzpffPGF4ziO8+yzzzp1dXXOq6++6pw8edL5wQ9+4DQ3Nzt9fX2TvOSVU+wz6u/vd3bs2OEcOXLE6ezsdN5//31nxYoVzre+9a0Z8xn9xV/8hVNXV+ccOnTIOX/+vHsZGhpyHzPTv0djfUZ8jxxn586dzuHDh53Ozk7n448/dp588kknGAw67777ruM45fsOTemgO47j/O3f/q3T2trqRKNR5zvf+U7OrhEz3YYNG5zm5mYnEok4LS0tzvr1651Tp05N9mJNmvfff9+RNOqyceNGx3Gu7nL09NNPO01NTU4sFnPuuece5+TJk5O70BVW7DMaGhpy1qxZ48ybN8+JRCLOwoULnY0bNzpnz56d7MWumHyfjSRn//797mNm+vdorM+I75Hj/OhHP3K7NW/ePOcP//AP3Zg7Tvm+Q5w+FQAAC0zZdegAAGD8CDoAABYg6AAAWICgAwBgAYIOAIAFCDoAABYg6AAAWICgAwBgAYIOAIAFCDoAABYg6AAAWICgAwBgAYIOAIAFCDoAABYg6AAAWICgAwBgAYIOAIAFCDoAABYg6AAAWOD/AcmxU3TJSkGmAAAAAElFTkSuQmCC' width=500.0/>\n",
       "            </div>\n",
       "        "
      ],
      "text/plain": [
       "Canvas(toolbar=Toolbar(toolitems=[('Home', 'Reset original view', 'home', 'home'), ('Back', 'Back to previous …"
      ]
     },
     "metadata": {},
     "output_type": "display_data"
    }
   ],
   "source": [
    "# параметр модели\n",
    "c = 1       # постоянная скорость\n",
    "L = 30      # длина домена\n",
    "\n",
    "# числовые параметры\n",
    "N = 800    # размер сетки\n",
    "\n",
    "# определите функцию\n",
    "def pebble(X, Y, width, positionX, positionY):\n",
    "    r = width*np.sqrt((X-positionX)**2 + (Y-positionY)**2)\n",
    "    u = np.random.uniform(-1., 1., 1)*np.cos(1.9*r)/np.cosh(r)\n",
    "    return u\n",
    "\n",
    "x = np.linspace(0, L, N)\n",
    "X, Y = np.meshgrid(x, x)\n",
    "\n",
    "# начальное смещение состоит из трех отдельных капель дождя\n",
    "f =  pebble(X, Y, 3.5, 0.35*L, 0.5*L)\n",
    "f += pebble(X, Y, 3, 0.6*L, 0.6*L)\n",
    "f += pebble(X, Y, 4, 0.7*L, 0.2*L)\n",
    "\n",
    "# начальная скорость равна нулю\n",
    "g = np.zeros((N,N))\n",
    "\n",
    "# параметры анимации\n",
    "Nsteps = 400\n",
    "Nskip = 10\n",
    "\n",
    "# установите временной шаг для удовлетворения критерия стабильности скачкообразного изменения (cfl < 1/sqrt(2) ~ 0,7)\n",
    "cfl = 0.6\n",
    "dx = L/N\n",
    "dt = cfl * dx / c\n",
    "\n",
    "# вычислительное и анимационное решение\n",
    "Nframes = int(Nsteps/Nskip)\n",
    "extent = [0, L, 0, L]\n",
    "\n",
    "fig, ax = plt.subplots(1,1,figsize=(5,5))\n",
    "ls = LightSource(azdeg=220, altdeg=70)\n",
    "imu = ax.imshow(ls.hillshade(f), cmap='Greys', animated=True, extent=extent, origin='lower')\n",
    "ani = animation.FuncAnimation(fig, update_graph,\n",
    "                              update_solution(f, g, cfl, dt, 'Neumann', Nframes, Nskip),\n",
    "                              fargs=(ls, imu), repeat=False)\n",
    "plt.tight_layout()\n",
    "plt.show()"
   ]
  },
  {
   "cell_type": "code",
   "execution_count": null,
   "metadata": {},
   "outputs": [],
   "source": []
  }
 ],
 "metadata": {
  "kernelspec": {
   "display_name": "Python 3 (ipykernel)",
   "language": "python",
   "name": "python3"
  },
  "language_info": {
   "codemirror_mode": {
    "name": "ipython",
    "version": 3
   },
   "file_extension": ".py",
   "mimetype": "text/x-python",
   "name": "python",
   "nbconvert_exporter": "python",
   "pygments_lexer": "ipython3",
   "version": "3.9.13"
  },
  "widgets": {
   "application/vnd.jupyter.widget-state+json": {
    "state": {},
    "version_major": 2,
    "version_minor": 0
   }
  }
 },
 "nbformat": 4,
 "nbformat_minor": 4
}
